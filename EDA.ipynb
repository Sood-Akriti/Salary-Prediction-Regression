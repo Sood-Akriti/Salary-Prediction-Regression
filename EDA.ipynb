{
 "cells": [
  {
   "cell_type": "code",
   "execution_count": 1,
   "id": "d73ebbef",
   "metadata": {},
   "outputs": [],
   "source": [
    "import pandas as pd\n",
    "import matplotlib.pyplot as plt\n",
    "import seaborn as sns\n",
    "import numpy as np\n",
    "import missingno as msno\n",
    "%matplotlib inline\n",
    "\n",
    "from scipy.stats import boxcox\n",
    "from scipy.stats.mstats import normaltest"
   ]
  },
  {
   "cell_type": "code",
   "execution_count": 2,
   "id": "6c304073",
   "metadata": {},
   "outputs": [],
   "source": [
    "df = pd.read_csv(\"C:/Users/Anchal/Desktop/IBM - Machine Learning/Assignments/Projects/Dataset/survey_results_public.csv\")"
   ]
  },
  {
   "cell_type": "code",
   "execution_count": 3,
   "id": "7c0594af",
   "metadata": {
    "scrolled": true
   },
   "outputs": [
    {
     "data": {
      "text/html": [
       "<div>\n",
       "<style scoped>\n",
       "    .dataframe tbody tr th:only-of-type {\n",
       "        vertical-align: middle;\n",
       "    }\n",
       "\n",
       "    .dataframe tbody tr th {\n",
       "        vertical-align: top;\n",
       "    }\n",
       "\n",
       "    .dataframe thead th {\n",
       "        text-align: right;\n",
       "    }\n",
       "</style>\n",
       "<table border=\"1\" class=\"dataframe\">\n",
       "  <thead>\n",
       "    <tr style=\"text-align: right;\">\n",
       "      <th></th>\n",
       "      <th>ResponseId</th>\n",
       "      <th>MainBranch</th>\n",
       "      <th>Employment</th>\n",
       "      <th>RemoteWork</th>\n",
       "      <th>CodingActivities</th>\n",
       "      <th>EdLevel</th>\n",
       "      <th>LearnCode</th>\n",
       "      <th>LearnCodeOnline</th>\n",
       "      <th>LearnCodeCoursesCert</th>\n",
       "      <th>YearsCode</th>\n",
       "      <th>...</th>\n",
       "      <th>TimeSearching</th>\n",
       "      <th>TimeAnswering</th>\n",
       "      <th>Onboarding</th>\n",
       "      <th>ProfessionalTech</th>\n",
       "      <th>TrueFalse_1</th>\n",
       "      <th>TrueFalse_2</th>\n",
       "      <th>TrueFalse_3</th>\n",
       "      <th>SurveyLength</th>\n",
       "      <th>SurveyEase</th>\n",
       "      <th>ConvertedCompYearly</th>\n",
       "    </tr>\n",
       "  </thead>\n",
       "  <tbody>\n",
       "    <tr>\n",
       "      <th>0</th>\n",
       "      <td>1</td>\n",
       "      <td>None of these</td>\n",
       "      <td>NaN</td>\n",
       "      <td>NaN</td>\n",
       "      <td>NaN</td>\n",
       "      <td>NaN</td>\n",
       "      <td>NaN</td>\n",
       "      <td>NaN</td>\n",
       "      <td>NaN</td>\n",
       "      <td>NaN</td>\n",
       "      <td>...</td>\n",
       "      <td>NaN</td>\n",
       "      <td>NaN</td>\n",
       "      <td>NaN</td>\n",
       "      <td>NaN</td>\n",
       "      <td>NaN</td>\n",
       "      <td>NaN</td>\n",
       "      <td>NaN</td>\n",
       "      <td>NaN</td>\n",
       "      <td>NaN</td>\n",
       "      <td>NaN</td>\n",
       "    </tr>\n",
       "    <tr>\n",
       "      <th>1</th>\n",
       "      <td>2</td>\n",
       "      <td>I am a developer by profession</td>\n",
       "      <td>Employed, full-time</td>\n",
       "      <td>Fully remote</td>\n",
       "      <td>Hobby;Contribute to open-source projects</td>\n",
       "      <td>NaN</td>\n",
       "      <td>NaN</td>\n",
       "      <td>NaN</td>\n",
       "      <td>NaN</td>\n",
       "      <td>NaN</td>\n",
       "      <td>...</td>\n",
       "      <td>NaN</td>\n",
       "      <td>NaN</td>\n",
       "      <td>NaN</td>\n",
       "      <td>NaN</td>\n",
       "      <td>NaN</td>\n",
       "      <td>NaN</td>\n",
       "      <td>NaN</td>\n",
       "      <td>Too long</td>\n",
       "      <td>Difficult</td>\n",
       "      <td>NaN</td>\n",
       "    </tr>\n",
       "    <tr>\n",
       "      <th>2</th>\n",
       "      <td>3</td>\n",
       "      <td>I am not primarily a developer, but I write co...</td>\n",
       "      <td>Employed, full-time</td>\n",
       "      <td>Hybrid (some remote, some in-person)</td>\n",
       "      <td>Hobby</td>\n",
       "      <td>Master’s degree (M.A., M.S., M.Eng., MBA, etc.)</td>\n",
       "      <td>Books / Physical media;Friend or family member...</td>\n",
       "      <td>Technical documentation;Blogs;Programming Game...</td>\n",
       "      <td>NaN</td>\n",
       "      <td>14</td>\n",
       "      <td>...</td>\n",
       "      <td>NaN</td>\n",
       "      <td>NaN</td>\n",
       "      <td>NaN</td>\n",
       "      <td>NaN</td>\n",
       "      <td>NaN</td>\n",
       "      <td>NaN</td>\n",
       "      <td>NaN</td>\n",
       "      <td>Appropriate in length</td>\n",
       "      <td>Neither easy nor difficult</td>\n",
       "      <td>40205.0</td>\n",
       "    </tr>\n",
       "    <tr>\n",
       "      <th>3</th>\n",
       "      <td>4</td>\n",
       "      <td>I am a developer by profession</td>\n",
       "      <td>Employed, full-time</td>\n",
       "      <td>Fully remote</td>\n",
       "      <td>I don’t code outside of work</td>\n",
       "      <td>Bachelor’s degree (B.A., B.S., B.Eng., etc.)</td>\n",
       "      <td>Books / Physical media;School (i.e., Universit...</td>\n",
       "      <td>NaN</td>\n",
       "      <td>NaN</td>\n",
       "      <td>20</td>\n",
       "      <td>...</td>\n",
       "      <td>NaN</td>\n",
       "      <td>NaN</td>\n",
       "      <td>NaN</td>\n",
       "      <td>NaN</td>\n",
       "      <td>NaN</td>\n",
       "      <td>NaN</td>\n",
       "      <td>NaN</td>\n",
       "      <td>Appropriate in length</td>\n",
       "      <td>Easy</td>\n",
       "      <td>215232.0</td>\n",
       "    </tr>\n",
       "    <tr>\n",
       "      <th>4</th>\n",
       "      <td>5</td>\n",
       "      <td>I am a developer by profession</td>\n",
       "      <td>Employed, full-time</td>\n",
       "      <td>Hybrid (some remote, some in-person)</td>\n",
       "      <td>Hobby</td>\n",
       "      <td>Bachelor’s degree (B.A., B.S., B.Eng., etc.)</td>\n",
       "      <td>Other online resources (e.g., videos, blogs, f...</td>\n",
       "      <td>Technical documentation;Blogs;Stack Overflow;O...</td>\n",
       "      <td>NaN</td>\n",
       "      <td>8</td>\n",
       "      <td>...</td>\n",
       "      <td>NaN</td>\n",
       "      <td>NaN</td>\n",
       "      <td>NaN</td>\n",
       "      <td>NaN</td>\n",
       "      <td>NaN</td>\n",
       "      <td>NaN</td>\n",
       "      <td>NaN</td>\n",
       "      <td>Too long</td>\n",
       "      <td>Easy</td>\n",
       "      <td>NaN</td>\n",
       "    </tr>\n",
       "  </tbody>\n",
       "</table>\n",
       "<p>5 rows × 79 columns</p>\n",
       "</div>"
      ],
      "text/plain": [
       "   ResponseId                                         MainBranch  \\\n",
       "0           1                                      None of these   \n",
       "1           2                     I am a developer by profession   \n",
       "2           3  I am not primarily a developer, but I write co...   \n",
       "3           4                     I am a developer by profession   \n",
       "4           5                     I am a developer by profession   \n",
       "\n",
       "            Employment                            RemoteWork  \\\n",
       "0                  NaN                                   NaN   \n",
       "1  Employed, full-time                          Fully remote   \n",
       "2  Employed, full-time  Hybrid (some remote, some in-person)   \n",
       "3  Employed, full-time                          Fully remote   \n",
       "4  Employed, full-time  Hybrid (some remote, some in-person)   \n",
       "\n",
       "                           CodingActivities  \\\n",
       "0                                       NaN   \n",
       "1  Hobby;Contribute to open-source projects   \n",
       "2                                     Hobby   \n",
       "3              I don’t code outside of work   \n",
       "4                                     Hobby   \n",
       "\n",
       "                                           EdLevel  \\\n",
       "0                                              NaN   \n",
       "1                                              NaN   \n",
       "2  Master’s degree (M.A., M.S., M.Eng., MBA, etc.)   \n",
       "3     Bachelor’s degree (B.A., B.S., B.Eng., etc.)   \n",
       "4     Bachelor’s degree (B.A., B.S., B.Eng., etc.)   \n",
       "\n",
       "                                           LearnCode  \\\n",
       "0                                                NaN   \n",
       "1                                                NaN   \n",
       "2  Books / Physical media;Friend or family member...   \n",
       "3  Books / Physical media;School (i.e., Universit...   \n",
       "4  Other online resources (e.g., videos, blogs, f...   \n",
       "\n",
       "                                     LearnCodeOnline LearnCodeCoursesCert  \\\n",
       "0                                                NaN                  NaN   \n",
       "1                                                NaN                  NaN   \n",
       "2  Technical documentation;Blogs;Programming Game...                  NaN   \n",
       "3                                                NaN                  NaN   \n",
       "4  Technical documentation;Blogs;Stack Overflow;O...                  NaN   \n",
       "\n",
       "  YearsCode  ... TimeSearching TimeAnswering Onboarding ProfessionalTech  \\\n",
       "0       NaN  ...           NaN           NaN        NaN              NaN   \n",
       "1       NaN  ...           NaN           NaN        NaN              NaN   \n",
       "2        14  ...           NaN           NaN        NaN              NaN   \n",
       "3        20  ...           NaN           NaN        NaN              NaN   \n",
       "4         8  ...           NaN           NaN        NaN              NaN   \n",
       "\n",
       "  TrueFalse_1 TrueFalse_2 TrueFalse_3           SurveyLength  \\\n",
       "0         NaN         NaN         NaN                    NaN   \n",
       "1         NaN         NaN         NaN               Too long   \n",
       "2         NaN         NaN         NaN  Appropriate in length   \n",
       "3         NaN         NaN         NaN  Appropriate in length   \n",
       "4         NaN         NaN         NaN               Too long   \n",
       "\n",
       "                   SurveyEase ConvertedCompYearly  \n",
       "0                         NaN                 NaN  \n",
       "1                   Difficult                 NaN  \n",
       "2  Neither easy nor difficult             40205.0  \n",
       "3                        Easy            215232.0  \n",
       "4                        Easy                 NaN  \n",
       "\n",
       "[5 rows x 79 columns]"
      ]
     },
     "execution_count": 3,
     "metadata": {},
     "output_type": "execute_result"
    }
   ],
   "source": [
    "df.head()"
   ]
  },
  {
   "cell_type": "code",
   "execution_count": 4,
   "id": "465d300f",
   "metadata": {},
   "outputs": [
    {
     "data": {
      "text/plain": [
       "(73268, 79)"
      ]
     },
     "execution_count": 4,
     "metadata": {},
     "output_type": "execute_result"
    }
   ],
   "source": [
    "df.shape"
   ]
  },
  {
   "cell_type": "code",
   "execution_count": 5,
   "id": "ca293ba2",
   "metadata": {},
   "outputs": [
    {
     "name": "stdout",
     "output_type": "stream",
     "text": [
      "<class 'pandas.core.frame.DataFrame'>\n",
      "RangeIndex: 73268 entries, 0 to 73267\n",
      "Data columns (total 79 columns):\n",
      " #   Column                          Non-Null Count  Dtype  \n",
      "---  ------                          --------------  -----  \n",
      " 0   ResponseId                      73268 non-null  int64  \n",
      " 1   MainBranch                      73268 non-null  object \n",
      " 2   Employment                      71709 non-null  object \n",
      " 3   RemoteWork                      58958 non-null  object \n",
      " 4   CodingActivities                58899 non-null  object \n",
      " 5   EdLevel                         71571 non-null  object \n",
      " 6   LearnCode                       71580 non-null  object \n",
      " 7   LearnCodeOnline                 50685 non-null  object \n",
      " 8   LearnCodeCoursesCert            29389 non-null  object \n",
      " 9   YearsCode                       71331 non-null  object \n",
      " 10  YearsCodePro                    51833 non-null  object \n",
      " 11  DevType                         61302 non-null  object \n",
      " 12  OrgSize                         51039 non-null  object \n",
      " 13  PurchaseInfluence               50969 non-null  object \n",
      " 14  BuyNewTool                      67963 non-null  object \n",
      " 15  Country                         71771 non-null  object \n",
      " 16  Currency                        51264 non-null  object \n",
      " 17  CompTotal                       38422 non-null  float64\n",
      " 18  CompFreq                        44425 non-null  object \n",
      " 19  LanguageHaveWorkedWith          70975 non-null  object \n",
      " 20  LanguageWantToWorkWith          67027 non-null  object \n",
      " 21  DatabaseHaveWorkedWith          60121 non-null  object \n",
      " 22  DatabaseWantToWorkWith          51014 non-null  object \n",
      " 23  PlatformHaveWorkedWith          49924 non-null  object \n",
      " 24  PlatformWantToWorkWith          40415 non-null  object \n",
      " 25  WebframeHaveWorkedWith          53544 non-null  object \n",
      " 26  WebframeWantToWorkWith          46122 non-null  object \n",
      " 27  MiscTechHaveWorkedWith          44992 non-null  object \n",
      " 28  MiscTechWantToWorkWith          36810 non-null  object \n",
      " 29  ToolsTechHaveWorkedWith         54171 non-null  object \n",
      " 30  ToolsTechWantToWorkWith         46566 non-null  object \n",
      " 31  NEWCollabToolsHaveWorkedWith    70347 non-null  object \n",
      " 32  NEWCollabToolsWantToWorkWith    64108 non-null  object \n",
      " 33  OpSysProfessional use           65503 non-null  object \n",
      " 34  OpSysPersonal use               70963 non-null  object \n",
      " 35  VersionControlSystem            71379 non-null  object \n",
      " 36  VCInteraction                   68156 non-null  object \n",
      " 37  VCHostingPersonal use           0 non-null      float64\n",
      " 38  VCHostingProfessional use       0 non-null      float64\n",
      " 39  OfficeStackAsyncHaveWorkedWith  46223 non-null  object \n",
      " 40  OfficeStackAsyncWantToWorkWith  32072 non-null  object \n",
      " 41  OfficeStackSyncHaveWorkedWith   62128 non-null  object \n",
      " 42  OfficeStackSyncWantToWorkWith   47688 non-null  object \n",
      " 43  Blockchain                      71071 non-null  object \n",
      " 44  NEWSOSites                      71365 non-null  object \n",
      " 45  SOVisitFreq                     70961 non-null  object \n",
      " 46  SOAccount                       71572 non-null  object \n",
      " 47  SOPartFreq                      58229 non-null  object \n",
      " 48  SOComm                          71408 non-null  object \n",
      " 49  Age                             70946 non-null  object \n",
      " 50  Gender                          70853 non-null  object \n",
      " 51  Trans                           70315 non-null  object \n",
      " 52  Sexuality                       66565 non-null  object \n",
      " 53  Ethnicity                       69474 non-null  object \n",
      " 54  Accessibility                   67244 non-null  object \n",
      " 55  MentalHealth                    66447 non-null  object \n",
      " 56  TBranch                         52670 non-null  object \n",
      " 57  ICorPM                          36283 non-null  object \n",
      " 58  WorkExp                         36769 non-null  float64\n",
      " 59  Knowledge_1                     35804 non-null  object \n",
      " 60  Knowledge_2                     34973 non-null  object \n",
      " 61  Knowledge_3                     35133 non-null  object \n",
      " 62  Knowledge_4                     35097 non-null  object \n",
      " 63  Knowledge_5                     35014 non-null  object \n",
      " 64  Knowledge_6                     34991 non-null  object \n",
      " 65  Knowledge_7                     34977 non-null  object \n",
      " 66  Frequency_1                     35371 non-null  object \n",
      " 67  Frequency_2                     35344 non-null  object \n",
      " 68  Frequency_3                     34515 non-null  object \n",
      " 69  TimeSearching                   36198 non-null  object \n",
      " 70  TimeAnswering                   36022 non-null  object \n",
      " 71  Onboarding                      35679 non-null  object \n",
      " 72  ProfessionalTech                34906 non-null  object \n",
      " 73  TrueFalse_1                     35819 non-null  object \n",
      " 74  TrueFalse_2                     35715 non-null  object \n",
      " 75  TrueFalse_3                     35749 non-null  object \n",
      " 76  SurveyLength                    70444 non-null  object \n",
      " 77  SurveyEase                      70508 non-null  object \n",
      " 78  ConvertedCompYearly             38071 non-null  float64\n",
      "dtypes: float64(5), int64(1), object(73)\n",
      "memory usage: 44.2+ MB\n"
     ]
    }
   ],
   "source": [
    "df.info()"
   ]
  },
  {
   "cell_type": "code",
   "execution_count": 6,
   "id": "6c702b7c",
   "metadata": {},
   "outputs": [
    {
     "data": {
      "text/html": [
       "<div>\n",
       "<style scoped>\n",
       "    .dataframe tbody tr th:only-of-type {\n",
       "        vertical-align: middle;\n",
       "    }\n",
       "\n",
       "    .dataframe tbody tr th {\n",
       "        vertical-align: top;\n",
       "    }\n",
       "\n",
       "    .dataframe thead th {\n",
       "        text-align: right;\n",
       "    }\n",
       "</style>\n",
       "<table border=\"1\" class=\"dataframe\">\n",
       "  <thead>\n",
       "    <tr style=\"text-align: right;\">\n",
       "      <th></th>\n",
       "      <th>ResponseId</th>\n",
       "      <th>CompTotal</th>\n",
       "      <th>VCHostingPersonal use</th>\n",
       "      <th>VCHostingProfessional use</th>\n",
       "      <th>WorkExp</th>\n",
       "      <th>ConvertedCompYearly</th>\n",
       "    </tr>\n",
       "  </thead>\n",
       "  <tbody>\n",
       "    <tr>\n",
       "      <th>count</th>\n",
       "      <td>73268.000000</td>\n",
       "      <td>3.842200e+04</td>\n",
       "      <td>0.0</td>\n",
       "      <td>0.0</td>\n",
       "      <td>36769.000000</td>\n",
       "      <td>3.807100e+04</td>\n",
       "    </tr>\n",
       "    <tr>\n",
       "      <th>mean</th>\n",
       "      <td>36634.500000</td>\n",
       "      <td>2.342434e+52</td>\n",
       "      <td>NaN</td>\n",
       "      <td>NaN</td>\n",
       "      <td>10.242378</td>\n",
       "      <td>1.707613e+05</td>\n",
       "    </tr>\n",
       "    <tr>\n",
       "      <th>std</th>\n",
       "      <td>21150.794099</td>\n",
       "      <td>4.591478e+54</td>\n",
       "      <td>NaN</td>\n",
       "      <td>NaN</td>\n",
       "      <td>8.706850</td>\n",
       "      <td>7.814132e+05</td>\n",
       "    </tr>\n",
       "    <tr>\n",
       "      <th>min</th>\n",
       "      <td>1.000000</td>\n",
       "      <td>0.000000e+00</td>\n",
       "      <td>NaN</td>\n",
       "      <td>NaN</td>\n",
       "      <td>0.000000</td>\n",
       "      <td>1.000000e+00</td>\n",
       "    </tr>\n",
       "    <tr>\n",
       "      <th>25%</th>\n",
       "      <td>18317.750000</td>\n",
       "      <td>3.000000e+04</td>\n",
       "      <td>NaN</td>\n",
       "      <td>NaN</td>\n",
       "      <td>4.000000</td>\n",
       "      <td>3.583200e+04</td>\n",
       "    </tr>\n",
       "    <tr>\n",
       "      <th>50%</th>\n",
       "      <td>36634.500000</td>\n",
       "      <td>7.750000e+04</td>\n",
       "      <td>NaN</td>\n",
       "      <td>NaN</td>\n",
       "      <td>8.000000</td>\n",
       "      <td>6.784500e+04</td>\n",
       "    </tr>\n",
       "    <tr>\n",
       "      <th>75%</th>\n",
       "      <td>54951.250000</td>\n",
       "      <td>1.540000e+05</td>\n",
       "      <td>NaN</td>\n",
       "      <td>NaN</td>\n",
       "      <td>15.000000</td>\n",
       "      <td>1.200000e+05</td>\n",
       "    </tr>\n",
       "    <tr>\n",
       "      <th>max</th>\n",
       "      <td>73268.000000</td>\n",
       "      <td>9.000000e+56</td>\n",
       "      <td>NaN</td>\n",
       "      <td>NaN</td>\n",
       "      <td>50.000000</td>\n",
       "      <td>5.000000e+07</td>\n",
       "    </tr>\n",
       "  </tbody>\n",
       "</table>\n",
       "</div>"
      ],
      "text/plain": [
       "         ResponseId     CompTotal  VCHostingPersonal use  \\\n",
       "count  73268.000000  3.842200e+04                    0.0   \n",
       "mean   36634.500000  2.342434e+52                    NaN   \n",
       "std    21150.794099  4.591478e+54                    NaN   \n",
       "min        1.000000  0.000000e+00                    NaN   \n",
       "25%    18317.750000  3.000000e+04                    NaN   \n",
       "50%    36634.500000  7.750000e+04                    NaN   \n",
       "75%    54951.250000  1.540000e+05                    NaN   \n",
       "max    73268.000000  9.000000e+56                    NaN   \n",
       "\n",
       "       VCHostingProfessional use       WorkExp  ConvertedCompYearly  \n",
       "count                        0.0  36769.000000         3.807100e+04  \n",
       "mean                         NaN     10.242378         1.707613e+05  \n",
       "std                          NaN      8.706850         7.814132e+05  \n",
       "min                          NaN      0.000000         1.000000e+00  \n",
       "25%                          NaN      4.000000         3.583200e+04  \n",
       "50%                          NaN      8.000000         6.784500e+04  \n",
       "75%                          NaN     15.000000         1.200000e+05  \n",
       "max                          NaN     50.000000         5.000000e+07  "
      ]
     },
     "execution_count": 6,
     "metadata": {},
     "output_type": "execute_result"
    }
   ],
   "source": [
    "df.describe()"
   ]
  },
  {
   "cell_type": "code",
   "execution_count": 7,
   "id": "3de180ba",
   "metadata": {},
   "outputs": [
    {
     "data": {
      "text/html": [
       "<div>\n",
       "<style scoped>\n",
       "    .dataframe tbody tr th:only-of-type {\n",
       "        vertical-align: middle;\n",
       "    }\n",
       "\n",
       "    .dataframe tbody tr th {\n",
       "        vertical-align: top;\n",
       "    }\n",
       "\n",
       "    .dataframe thead th {\n",
       "        text-align: right;\n",
       "    }\n",
       "</style>\n",
       "<table border=\"1\" class=\"dataframe\">\n",
       "  <thead>\n",
       "    <tr style=\"text-align: right;\">\n",
       "      <th></th>\n",
       "      <th>ResponseId</th>\n",
       "      <th>MainBranch</th>\n",
       "      <th>Employment</th>\n",
       "      <th>RemoteWork</th>\n",
       "      <th>CodingActivities</th>\n",
       "      <th>EdLevel</th>\n",
       "      <th>LearnCode</th>\n",
       "      <th>LearnCodeOnline</th>\n",
       "      <th>LearnCodeCoursesCert</th>\n",
       "      <th>YearsCode</th>\n",
       "      <th>...</th>\n",
       "      <th>TimeSearching</th>\n",
       "      <th>TimeAnswering</th>\n",
       "      <th>Onboarding</th>\n",
       "      <th>ProfessionalTech</th>\n",
       "      <th>TrueFalse_1</th>\n",
       "      <th>TrueFalse_2</th>\n",
       "      <th>TrueFalse_3</th>\n",
       "      <th>SurveyLength</th>\n",
       "      <th>SurveyEase</th>\n",
       "      <th>ConvertedCompYearly</th>\n",
       "    </tr>\n",
       "  </thead>\n",
       "  <tbody>\n",
       "  </tbody>\n",
       "</table>\n",
       "<p>0 rows × 79 columns</p>\n",
       "</div>"
      ],
      "text/plain": [
       "Empty DataFrame\n",
       "Columns: [ResponseId, MainBranch, Employment, RemoteWork, CodingActivities, EdLevel, LearnCode, LearnCodeOnline, LearnCodeCoursesCert, YearsCode, YearsCodePro, DevType, OrgSize, PurchaseInfluence, BuyNewTool, Country, Currency, CompTotal, CompFreq, LanguageHaveWorkedWith, LanguageWantToWorkWith, DatabaseHaveWorkedWith, DatabaseWantToWorkWith, PlatformHaveWorkedWith, PlatformWantToWorkWith, WebframeHaveWorkedWith, WebframeWantToWorkWith, MiscTechHaveWorkedWith, MiscTechWantToWorkWith, ToolsTechHaveWorkedWith, ToolsTechWantToWorkWith, NEWCollabToolsHaveWorkedWith, NEWCollabToolsWantToWorkWith, OpSysProfessional use, OpSysPersonal use, VersionControlSystem, VCInteraction, VCHostingPersonal use, VCHostingProfessional use, OfficeStackAsyncHaveWorkedWith, OfficeStackAsyncWantToWorkWith, OfficeStackSyncHaveWorkedWith, OfficeStackSyncWantToWorkWith, Blockchain, NEWSOSites, SOVisitFreq, SOAccount, SOPartFreq, SOComm, Age, Gender, Trans, Sexuality, Ethnicity, Accessibility, MentalHealth, TBranch, ICorPM, WorkExp, Knowledge_1, Knowledge_2, Knowledge_3, Knowledge_4, Knowledge_5, Knowledge_6, Knowledge_7, Frequency_1, Frequency_2, Frequency_3, TimeSearching, TimeAnswering, Onboarding, ProfessionalTech, TrueFalse_1, TrueFalse_2, TrueFalse_3, SurveyLength, SurveyEase, ConvertedCompYearly]\n",
       "Index: []\n",
       "\n",
       "[0 rows x 79 columns]"
      ]
     },
     "execution_count": 7,
     "metadata": {},
     "output_type": "execute_result"
    }
   ],
   "source": [
    "duplicate = df[df.duplicated('ResponseId')]\n",
    "duplicate"
   ]
  },
  {
   "cell_type": "code",
   "execution_count": 8,
   "id": "1ad3dac2",
   "metadata": {},
   "outputs": [],
   "source": [
    "df.set_index(['ResponseId'],inplace = True)"
   ]
  },
  {
   "cell_type": "code",
   "execution_count": 9,
   "id": "3448ef7a",
   "metadata": {},
   "outputs": [
    {
     "data": {
      "text/html": [
       "<div>\n",
       "<style scoped>\n",
       "    .dataframe tbody tr th:only-of-type {\n",
       "        vertical-align: middle;\n",
       "    }\n",
       "\n",
       "    .dataframe tbody tr th {\n",
       "        vertical-align: top;\n",
       "    }\n",
       "\n",
       "    .dataframe thead th {\n",
       "        text-align: right;\n",
       "    }\n",
       "</style>\n",
       "<table border=\"1\" class=\"dataframe\">\n",
       "  <thead>\n",
       "    <tr style=\"text-align: right;\">\n",
       "      <th></th>\n",
       "      <th>Employment</th>\n",
       "      <th>EdLevel</th>\n",
       "      <th>YearsCodePro</th>\n",
       "      <th>DevType</th>\n",
       "      <th>OrgSize</th>\n",
       "      <th>Country</th>\n",
       "      <th>LanguageHaveWorkedWith</th>\n",
       "      <th>DatabaseHaveWorkedWith</th>\n",
       "      <th>PlatformHaveWorkedWith</th>\n",
       "      <th>WebframeHaveWorkedWith</th>\n",
       "      <th>MiscTechHaveWorkedWith</th>\n",
       "      <th>ToolsTechHaveWorkedWith</th>\n",
       "      <th>NEWCollabToolsHaveWorkedWith</th>\n",
       "      <th>OpSysProfessional use</th>\n",
       "      <th>Age</th>\n",
       "      <th>Gender</th>\n",
       "      <th>WorkExp</th>\n",
       "      <th>Salary</th>\n",
       "    </tr>\n",
       "    <tr>\n",
       "      <th>ResponseId</th>\n",
       "      <th></th>\n",
       "      <th></th>\n",
       "      <th></th>\n",
       "      <th></th>\n",
       "      <th></th>\n",
       "      <th></th>\n",
       "      <th></th>\n",
       "      <th></th>\n",
       "      <th></th>\n",
       "      <th></th>\n",
       "      <th></th>\n",
       "      <th></th>\n",
       "      <th></th>\n",
       "      <th></th>\n",
       "      <th></th>\n",
       "      <th></th>\n",
       "      <th></th>\n",
       "      <th></th>\n",
       "    </tr>\n",
       "  </thead>\n",
       "  <tbody>\n",
       "    <tr>\n",
       "      <th>1</th>\n",
       "      <td>NaN</td>\n",
       "      <td>NaN</td>\n",
       "      <td>NaN</td>\n",
       "      <td>NaN</td>\n",
       "      <td>NaN</td>\n",
       "      <td>NaN</td>\n",
       "      <td>NaN</td>\n",
       "      <td>NaN</td>\n",
       "      <td>NaN</td>\n",
       "      <td>NaN</td>\n",
       "      <td>NaN</td>\n",
       "      <td>NaN</td>\n",
       "      <td>NaN</td>\n",
       "      <td>NaN</td>\n",
       "      <td>NaN</td>\n",
       "      <td>NaN</td>\n",
       "      <td>NaN</td>\n",
       "      <td>NaN</td>\n",
       "    </tr>\n",
       "    <tr>\n",
       "      <th>2</th>\n",
       "      <td>Employed, full-time</td>\n",
       "      <td>NaN</td>\n",
       "      <td>NaN</td>\n",
       "      <td>NaN</td>\n",
       "      <td>NaN</td>\n",
       "      <td>Canada</td>\n",
       "      <td>JavaScript;TypeScript</td>\n",
       "      <td>NaN</td>\n",
       "      <td>NaN</td>\n",
       "      <td>NaN</td>\n",
       "      <td>NaN</td>\n",
       "      <td>NaN</td>\n",
       "      <td>NaN</td>\n",
       "      <td>macOS</td>\n",
       "      <td>NaN</td>\n",
       "      <td>NaN</td>\n",
       "      <td>NaN</td>\n",
       "      <td>NaN</td>\n",
       "    </tr>\n",
       "    <tr>\n",
       "      <th>3</th>\n",
       "      <td>Employed, full-time</td>\n",
       "      <td>Master’s degree (M.A., M.S., M.Eng., MBA, etc.)</td>\n",
       "      <td>5</td>\n",
       "      <td>Data scientist or machine learning specialist;...</td>\n",
       "      <td>20 to 99 employees</td>\n",
       "      <td>United Kingdom of Great Britain and Northern I...</td>\n",
       "      <td>C#;C++;HTML/CSS;JavaScript;Python</td>\n",
       "      <td>Microsoft SQL Server</td>\n",
       "      <td>NaN</td>\n",
       "      <td>Angular.js</td>\n",
       "      <td>Pandas</td>\n",
       "      <td>NaN</td>\n",
       "      <td>Notepad++;Visual Studio</td>\n",
       "      <td>Windows</td>\n",
       "      <td>25-34 years old</td>\n",
       "      <td>Man</td>\n",
       "      <td>NaN</td>\n",
       "      <td>40205.0</td>\n",
       "    </tr>\n",
       "    <tr>\n",
       "      <th>4</th>\n",
       "      <td>Employed, full-time</td>\n",
       "      <td>Bachelor’s degree (B.A., B.S., B.Eng., etc.)</td>\n",
       "      <td>17</td>\n",
       "      <td>Developer, full-stack</td>\n",
       "      <td>100 to 499 employees</td>\n",
       "      <td>Israel</td>\n",
       "      <td>C#;JavaScript;SQL;TypeScript</td>\n",
       "      <td>Microsoft SQL Server</td>\n",
       "      <td>NaN</td>\n",
       "      <td>ASP.NET;ASP.NET Core</td>\n",
       "      <td>.NET</td>\n",
       "      <td>NaN</td>\n",
       "      <td>Notepad++;Visual Studio;Visual Studio Code</td>\n",
       "      <td>Windows</td>\n",
       "      <td>35-44 years old</td>\n",
       "      <td>Man</td>\n",
       "      <td>NaN</td>\n",
       "      <td>215232.0</td>\n",
       "    </tr>\n",
       "    <tr>\n",
       "      <th>5</th>\n",
       "      <td>Employed, full-time</td>\n",
       "      <td>Bachelor’s degree (B.A., B.S., B.Eng., etc.)</td>\n",
       "      <td>3</td>\n",
       "      <td>Developer, front-end;Developer, full-stack;Dev...</td>\n",
       "      <td>20 to 99 employees</td>\n",
       "      <td>United States of America</td>\n",
       "      <td>C#;HTML/CSS;JavaScript;SQL;Swift;TypeScript</td>\n",
       "      <td>Cloud Firestore;Elasticsearch;Microsoft SQL Se...</td>\n",
       "      <td>Firebase;Microsoft Azure</td>\n",
       "      <td>Angular;ASP.NET;ASP.NET Core ;jQuery;Node.js</td>\n",
       "      <td>.NET</td>\n",
       "      <td>npm</td>\n",
       "      <td>Notepad++;Visual Studio;Visual Studio Code;Xcode</td>\n",
       "      <td>Windows</td>\n",
       "      <td>25-34 years old</td>\n",
       "      <td>NaN</td>\n",
       "      <td>NaN</td>\n",
       "      <td>NaN</td>\n",
       "    </tr>\n",
       "  </tbody>\n",
       "</table>\n",
       "</div>"
      ],
      "text/plain": [
       "                     Employment  \\\n",
       "ResponseId                        \n",
       "1                           NaN   \n",
       "2           Employed, full-time   \n",
       "3           Employed, full-time   \n",
       "4           Employed, full-time   \n",
       "5           Employed, full-time   \n",
       "\n",
       "                                                    EdLevel YearsCodePro  \\\n",
       "ResponseId                                                                 \n",
       "1                                                       NaN          NaN   \n",
       "2                                                       NaN          NaN   \n",
       "3           Master’s degree (M.A., M.S., M.Eng., MBA, etc.)            5   \n",
       "4              Bachelor’s degree (B.A., B.S., B.Eng., etc.)           17   \n",
       "5              Bachelor’s degree (B.A., B.S., B.Eng., etc.)            3   \n",
       "\n",
       "                                                      DevType  \\\n",
       "ResponseId                                                      \n",
       "1                                                         NaN   \n",
       "2                                                         NaN   \n",
       "3           Data scientist or machine learning specialist;...   \n",
       "4                                       Developer, full-stack   \n",
       "5           Developer, front-end;Developer, full-stack;Dev...   \n",
       "\n",
       "                         OrgSize  \\\n",
       "ResponseId                         \n",
       "1                            NaN   \n",
       "2                            NaN   \n",
       "3             20 to 99 employees   \n",
       "4           100 to 499 employees   \n",
       "5             20 to 99 employees   \n",
       "\n",
       "                                                      Country  \\\n",
       "ResponseId                                                      \n",
       "1                                                         NaN   \n",
       "2                                                      Canada   \n",
       "3           United Kingdom of Great Britain and Northern I...   \n",
       "4                                                      Israel   \n",
       "5                                    United States of America   \n",
       "\n",
       "                                 LanguageHaveWorkedWith  \\\n",
       "ResponseId                                                \n",
       "1                                                   NaN   \n",
       "2                                 JavaScript;TypeScript   \n",
       "3                     C#;C++;HTML/CSS;JavaScript;Python   \n",
       "4                          C#;JavaScript;SQL;TypeScript   \n",
       "5           C#;HTML/CSS;JavaScript;SQL;Swift;TypeScript   \n",
       "\n",
       "                                       DatabaseHaveWorkedWith  \\\n",
       "ResponseId                                                      \n",
       "1                                                         NaN   \n",
       "2                                                         NaN   \n",
       "3                                        Microsoft SQL Server   \n",
       "4                                        Microsoft SQL Server   \n",
       "5           Cloud Firestore;Elasticsearch;Microsoft SQL Se...   \n",
       "\n",
       "              PlatformHaveWorkedWith  \\\n",
       "ResponseId                             \n",
       "1                                NaN   \n",
       "2                                NaN   \n",
       "3                                NaN   \n",
       "4                                NaN   \n",
       "5           Firebase;Microsoft Azure   \n",
       "\n",
       "                                  WebframeHaveWorkedWith  \\\n",
       "ResponseId                                                 \n",
       "1                                                    NaN   \n",
       "2                                                    NaN   \n",
       "3                                             Angular.js   \n",
       "4                                  ASP.NET;ASP.NET Core    \n",
       "5           Angular;ASP.NET;ASP.NET Core ;jQuery;Node.js   \n",
       "\n",
       "           MiscTechHaveWorkedWith ToolsTechHaveWorkedWith  \\\n",
       "ResponseId                                                  \n",
       "1                             NaN                     NaN   \n",
       "2                             NaN                     NaN   \n",
       "3                          Pandas                     NaN   \n",
       "4                            .NET                     NaN   \n",
       "5                            .NET                     npm   \n",
       "\n",
       "                                NEWCollabToolsHaveWorkedWith  \\\n",
       "ResponseId                                                     \n",
       "1                                                        NaN   \n",
       "2                                                        NaN   \n",
       "3                                    Notepad++;Visual Studio   \n",
       "4                 Notepad++;Visual Studio;Visual Studio Code   \n",
       "5           Notepad++;Visual Studio;Visual Studio Code;Xcode   \n",
       "\n",
       "           OpSysProfessional use              Age Gender  WorkExp    Salary  \n",
       "ResponseId                                                                   \n",
       "1                            NaN              NaN    NaN      NaN       NaN  \n",
       "2                          macOS              NaN    NaN      NaN       NaN  \n",
       "3                        Windows  25-34 years old    Man      NaN   40205.0  \n",
       "4                        Windows  35-44 years old    Man      NaN  215232.0  \n",
       "5                        Windows  25-34 years old    NaN      NaN       NaN  "
      ]
     },
     "execution_count": 9,
     "metadata": {},
     "output_type": "execute_result"
    }
   ],
   "source": [
    "df = df.rename({\"ConvertedCompYearly\": \"Salary\"}, axis=1)\n",
    "salary_df = df[['Employment', 'EdLevel', 'YearsCodePro', 'DevType',\n",
    "       'OrgSize', 'Country', 'LanguageHaveWorkedWith',\n",
    "       'DatabaseHaveWorkedWith', 'PlatformHaveWorkedWith',\n",
    "       'WebframeHaveWorkedWith', 'MiscTechHaveWorkedWith',\n",
    "       'ToolsTechHaveWorkedWith', 'NEWCollabToolsHaveWorkedWith',\n",
    "       'OpSysProfessional use', 'Age', 'Gender', 'WorkExp', 'Salary']]\n",
    "salary_df.head()"
   ]
  },
  {
   "cell_type": "code",
   "execution_count": 10,
   "id": "6073d781",
   "metadata": {
    "scrolled": true
   },
   "outputs": [
    {
     "data": {
      "text/html": [
       "<div>\n",
       "<style scoped>\n",
       "    .dataframe tbody tr th:only-of-type {\n",
       "        vertical-align: middle;\n",
       "    }\n",
       "\n",
       "    .dataframe tbody tr th {\n",
       "        vertical-align: top;\n",
       "    }\n",
       "\n",
       "    .dataframe thead th {\n",
       "        text-align: right;\n",
       "    }\n",
       "</style>\n",
       "<table border=\"1\" class=\"dataframe\">\n",
       "  <thead>\n",
       "    <tr style=\"text-align: right;\">\n",
       "      <th></th>\n",
       "      <th>Employment</th>\n",
       "      <th>EdLevel</th>\n",
       "      <th>YearsCodePro</th>\n",
       "      <th>DevType</th>\n",
       "      <th>OrgSize</th>\n",
       "      <th>Country</th>\n",
       "      <th>LanguageHaveWorkedWith</th>\n",
       "      <th>DatabaseHaveWorkedWith</th>\n",
       "      <th>PlatformHaveWorkedWith</th>\n",
       "      <th>WebframeHaveWorkedWith</th>\n",
       "      <th>MiscTechHaveWorkedWith</th>\n",
       "      <th>ToolsTechHaveWorkedWith</th>\n",
       "      <th>NEWCollabToolsHaveWorkedWith</th>\n",
       "      <th>OpSysProfessional use</th>\n",
       "      <th>Age</th>\n",
       "      <th>Gender</th>\n",
       "      <th>WorkExp</th>\n",
       "      <th>Salary</th>\n",
       "    </tr>\n",
       "    <tr>\n",
       "      <th>ResponseId</th>\n",
       "      <th></th>\n",
       "      <th></th>\n",
       "      <th></th>\n",
       "      <th></th>\n",
       "      <th></th>\n",
       "      <th></th>\n",
       "      <th></th>\n",
       "      <th></th>\n",
       "      <th></th>\n",
       "      <th></th>\n",
       "      <th></th>\n",
       "      <th></th>\n",
       "      <th></th>\n",
       "      <th></th>\n",
       "      <th></th>\n",
       "      <th></th>\n",
       "      <th></th>\n",
       "      <th></th>\n",
       "    </tr>\n",
       "  </thead>\n",
       "  <tbody>\n",
       "    <tr>\n",
       "      <th>3</th>\n",
       "      <td>Employed, full-time</td>\n",
       "      <td>Master’s degree (M.A., M.S., M.Eng., MBA, etc.)</td>\n",
       "      <td>5</td>\n",
       "      <td>Data scientist or machine learning specialist;...</td>\n",
       "      <td>20 to 99 employees</td>\n",
       "      <td>United Kingdom of Great Britain and Northern I...</td>\n",
       "      <td>C#;C++;HTML/CSS;JavaScript;Python</td>\n",
       "      <td>Microsoft SQL Server</td>\n",
       "      <td>NaN</td>\n",
       "      <td>Angular.js</td>\n",
       "      <td>Pandas</td>\n",
       "      <td>NaN</td>\n",
       "      <td>Notepad++;Visual Studio</td>\n",
       "      <td>Windows</td>\n",
       "      <td>25-34 years old</td>\n",
       "      <td>Man</td>\n",
       "      <td>NaN</td>\n",
       "      <td>40205.0</td>\n",
       "    </tr>\n",
       "    <tr>\n",
       "      <th>4</th>\n",
       "      <td>Employed, full-time</td>\n",
       "      <td>Bachelor’s degree (B.A., B.S., B.Eng., etc.)</td>\n",
       "      <td>17</td>\n",
       "      <td>Developer, full-stack</td>\n",
       "      <td>100 to 499 employees</td>\n",
       "      <td>Israel</td>\n",
       "      <td>C#;JavaScript;SQL;TypeScript</td>\n",
       "      <td>Microsoft SQL Server</td>\n",
       "      <td>NaN</td>\n",
       "      <td>ASP.NET;ASP.NET Core</td>\n",
       "      <td>.NET</td>\n",
       "      <td>NaN</td>\n",
       "      <td>Notepad++;Visual Studio;Visual Studio Code</td>\n",
       "      <td>Windows</td>\n",
       "      <td>35-44 years old</td>\n",
       "      <td>Man</td>\n",
       "      <td>NaN</td>\n",
       "      <td>215232.0</td>\n",
       "    </tr>\n",
       "    <tr>\n",
       "      <th>9</th>\n",
       "      <td>Employed, full-time</td>\n",
       "      <td>Master’s degree (M.A., M.S., M.Eng., MBA, etc.)</td>\n",
       "      <td>6</td>\n",
       "      <td>Developer, back-end</td>\n",
       "      <td>I don’t know</td>\n",
       "      <td>Netherlands</td>\n",
       "      <td>NaN</td>\n",
       "      <td>NaN</td>\n",
       "      <td>NaN</td>\n",
       "      <td>NaN</td>\n",
       "      <td>NaN</td>\n",
       "      <td>NaN</td>\n",
       "      <td>Emacs;Notepad++</td>\n",
       "      <td>Windows</td>\n",
       "      <td>25-34 years old</td>\n",
       "      <td>Woman</td>\n",
       "      <td>6.0</td>\n",
       "      <td>49056.0</td>\n",
       "    </tr>\n",
       "    <tr>\n",
       "      <th>11</th>\n",
       "      <td>Employed, full-time</td>\n",
       "      <td>Bachelor’s degree (B.A., B.S., B.Eng., etc.)</td>\n",
       "      <td>2</td>\n",
       "      <td>Developer, full-stack;Developer, back-end</td>\n",
       "      <td>100 to 499 employees</td>\n",
       "      <td>United Kingdom of Great Britain and Northern I...</td>\n",
       "      <td>Bash/Shell;C#;HTML/CSS;JavaScript;PowerShell;SQL</td>\n",
       "      <td>Microsoft SQL Server</td>\n",
       "      <td>AWS;Microsoft Azure</td>\n",
       "      <td>ASP.NET;ASP.NET Core ;Vue.js</td>\n",
       "      <td>.NET</td>\n",
       "      <td>Docker;npm;Terraform</td>\n",
       "      <td>Rider;Visual Studio;Visual Studio Code</td>\n",
       "      <td>Windows;Windows Subsystem for Linux (WSL)</td>\n",
       "      <td>18-24 years old</td>\n",
       "      <td>Man</td>\n",
       "      <td>NaN</td>\n",
       "      <td>60307.0</td>\n",
       "    </tr>\n",
       "    <tr>\n",
       "      <th>12</th>\n",
       "      <td>Employed, full-time;Independent contractor, fr...</td>\n",
       "      <td>Bachelor’s degree (B.A., B.S., B.Eng., etc.)</td>\n",
       "      <td>10</td>\n",
       "      <td>Engineering manager</td>\n",
       "      <td>20 to 99 employees</td>\n",
       "      <td>United States of America</td>\n",
       "      <td>C#;HTML/CSS;JavaScript;PowerShell;Python;Rust;SQL</td>\n",
       "      <td>Couchbase;CouchDB;Microsoft SQL Server;MongoDB...</td>\n",
       "      <td>AWS;Microsoft Azure</td>\n",
       "      <td>ASP.NET;ASP.NET Core ;Express;Node.js;Vue.js</td>\n",
       "      <td>.NET;Keras;NumPy;Pandas;Scikit-learn;TensorFlo...</td>\n",
       "      <td>Docker;Homebrew;Kubernetes</td>\n",
       "      <td>IPython/Jupyter;Neovim;Visual Studio;Visual St...</td>\n",
       "      <td>Linux-based;macOS;Windows</td>\n",
       "      <td>35-44 years old</td>\n",
       "      <td>Man</td>\n",
       "      <td>14.0</td>\n",
       "      <td>194400.0</td>\n",
       "    </tr>\n",
       "  </tbody>\n",
       "</table>\n",
       "</div>"
      ],
      "text/plain": [
       "                                                   Employment  \\\n",
       "ResponseId                                                      \n",
       "3                                         Employed, full-time   \n",
       "4                                         Employed, full-time   \n",
       "9                                         Employed, full-time   \n",
       "11                                        Employed, full-time   \n",
       "12          Employed, full-time;Independent contractor, fr...   \n",
       "\n",
       "                                                    EdLevel YearsCodePro  \\\n",
       "ResponseId                                                                 \n",
       "3           Master’s degree (M.A., M.S., M.Eng., MBA, etc.)            5   \n",
       "4              Bachelor’s degree (B.A., B.S., B.Eng., etc.)           17   \n",
       "9           Master’s degree (M.A., M.S., M.Eng., MBA, etc.)            6   \n",
       "11             Bachelor’s degree (B.A., B.S., B.Eng., etc.)            2   \n",
       "12             Bachelor’s degree (B.A., B.S., B.Eng., etc.)           10   \n",
       "\n",
       "                                                      DevType  \\\n",
       "ResponseId                                                      \n",
       "3           Data scientist or machine learning specialist;...   \n",
       "4                                       Developer, full-stack   \n",
       "9                                         Developer, back-end   \n",
       "11                  Developer, full-stack;Developer, back-end   \n",
       "12                                        Engineering manager   \n",
       "\n",
       "                         OrgSize  \\\n",
       "ResponseId                         \n",
       "3             20 to 99 employees   \n",
       "4           100 to 499 employees   \n",
       "9                   I don’t know   \n",
       "11          100 to 499 employees   \n",
       "12            20 to 99 employees   \n",
       "\n",
       "                                                      Country  \\\n",
       "ResponseId                                                      \n",
       "3           United Kingdom of Great Britain and Northern I...   \n",
       "4                                                      Israel   \n",
       "9                                                 Netherlands   \n",
       "11          United Kingdom of Great Britain and Northern I...   \n",
       "12                                   United States of America   \n",
       "\n",
       "                                       LanguageHaveWorkedWith  \\\n",
       "ResponseId                                                      \n",
       "3                           C#;C++;HTML/CSS;JavaScript;Python   \n",
       "4                                C#;JavaScript;SQL;TypeScript   \n",
       "9                                                         NaN   \n",
       "11           Bash/Shell;C#;HTML/CSS;JavaScript;PowerShell;SQL   \n",
       "12          C#;HTML/CSS;JavaScript;PowerShell;Python;Rust;SQL   \n",
       "\n",
       "                                       DatabaseHaveWorkedWith  \\\n",
       "ResponseId                                                      \n",
       "3                                        Microsoft SQL Server   \n",
       "4                                        Microsoft SQL Server   \n",
       "9                                                         NaN   \n",
       "11                                       Microsoft SQL Server   \n",
       "12          Couchbase;CouchDB;Microsoft SQL Server;MongoDB...   \n",
       "\n",
       "           PlatformHaveWorkedWith  \\\n",
       "ResponseId                          \n",
       "3                             NaN   \n",
       "4                             NaN   \n",
       "9                             NaN   \n",
       "11            AWS;Microsoft Azure   \n",
       "12            AWS;Microsoft Azure   \n",
       "\n",
       "                                  WebframeHaveWorkedWith  \\\n",
       "ResponseId                                                 \n",
       "3                                             Angular.js   \n",
       "4                                  ASP.NET;ASP.NET Core    \n",
       "9                                                    NaN   \n",
       "11                          ASP.NET;ASP.NET Core ;Vue.js   \n",
       "12          ASP.NET;ASP.NET Core ;Express;Node.js;Vue.js   \n",
       "\n",
       "                                       MiscTechHaveWorkedWith  \\\n",
       "ResponseId                                                      \n",
       "3                                                      Pandas   \n",
       "4                                                        .NET   \n",
       "9                                                         NaN   \n",
       "11                                                       .NET   \n",
       "12          .NET;Keras;NumPy;Pandas;Scikit-learn;TensorFlo...   \n",
       "\n",
       "               ToolsTechHaveWorkedWith  \\\n",
       "ResponseId                               \n",
       "3                                  NaN   \n",
       "4                                  NaN   \n",
       "9                                  NaN   \n",
       "11                Docker;npm;Terraform   \n",
       "12          Docker;Homebrew;Kubernetes   \n",
       "\n",
       "                                 NEWCollabToolsHaveWorkedWith  \\\n",
       "ResponseId                                                      \n",
       "3                                     Notepad++;Visual Studio   \n",
       "4                  Notepad++;Visual Studio;Visual Studio Code   \n",
       "9                                             Emacs;Notepad++   \n",
       "11                     Rider;Visual Studio;Visual Studio Code   \n",
       "12          IPython/Jupyter;Neovim;Visual Studio;Visual St...   \n",
       "\n",
       "                                OpSysProfessional use              Age Gender  \\\n",
       "ResponseId                                                                      \n",
       "3                                             Windows  25-34 years old    Man   \n",
       "4                                             Windows  35-44 years old    Man   \n",
       "9                                             Windows  25-34 years old  Woman   \n",
       "11          Windows;Windows Subsystem for Linux (WSL)  18-24 years old    Man   \n",
       "12                          Linux-based;macOS;Windows  35-44 years old    Man   \n",
       "\n",
       "            WorkExp    Salary  \n",
       "ResponseId                     \n",
       "3               NaN   40205.0  \n",
       "4               NaN  215232.0  \n",
       "9               6.0   49056.0  \n",
       "11              NaN   60307.0  \n",
       "12             14.0  194400.0  "
      ]
     },
     "execution_count": 10,
     "metadata": {},
     "output_type": "execute_result"
    }
   ],
   "source": [
    "salary_df = salary_df[salary_df[\"Salary\"].notnull()]\n",
    "salary_df.head()"
   ]
  },
  {
   "cell_type": "code",
   "execution_count": 11,
   "id": "a5e3e61d",
   "metadata": {},
   "outputs": [
    {
     "data": {
      "text/plain": [
       "(38071, 18)"
      ]
     },
     "execution_count": 11,
     "metadata": {},
     "output_type": "execute_result"
    }
   ],
   "source": [
    "salary_df.shape"
   ]
  },
  {
   "cell_type": "code",
   "execution_count": 12,
   "id": "55639446",
   "metadata": {},
   "outputs": [
    {
     "name": "stdout",
     "output_type": "stream",
     "text": [
      "<class 'pandas.core.frame.DataFrame'>\n",
      "Int64Index: 38071 entries, 3 to 73122\n",
      "Data columns (total 18 columns):\n",
      " #   Column                        Non-Null Count  Dtype  \n",
      "---  ------                        --------------  -----  \n",
      " 0   Employment                    38067 non-null  object \n",
      " 1   EdLevel                       38054 non-null  object \n",
      " 2   YearsCodePro                  37935 non-null  object \n",
      " 3   DevType                       37989 non-null  object \n",
      " 4   OrgSize                       38042 non-null  object \n",
      " 5   Country                       38071 non-null  object \n",
      " 6   LanguageHaveWorkedWith        37960 non-null  object \n",
      " 7   DatabaseHaveWorkedWith        33325 non-null  object \n",
      " 8   PlatformHaveWorkedWith        28873 non-null  object \n",
      " 9   WebframeHaveWorkedWith        29552 non-null  object \n",
      " 10  MiscTechHaveWorkedWith        24234 non-null  object \n",
      " 11  ToolsTechHaveWorkedWith       30553 non-null  object \n",
      " 12  NEWCollabToolsHaveWorkedWith  37780 non-null  object \n",
      " 13  OpSysProfessional use         36871 non-null  object \n",
      " 14  Age                           37984 non-null  object \n",
      " 15  Gender                        37938 non-null  object \n",
      " 16  WorkExp                       27103 non-null  float64\n",
      " 17  Salary                        38071 non-null  float64\n",
      "dtypes: float64(2), object(16)\n",
      "memory usage: 5.5+ MB\n"
     ]
    }
   ],
   "source": [
    "salary_df.info()"
   ]
  },
  {
   "cell_type": "code",
   "execution_count": 13,
   "id": "b21939e3",
   "metadata": {},
   "outputs": [
    {
     "data": {
      "text/html": [
       "<div>\n",
       "<style scoped>\n",
       "    .dataframe tbody tr th:only-of-type {\n",
       "        vertical-align: middle;\n",
       "    }\n",
       "\n",
       "    .dataframe tbody tr th {\n",
       "        vertical-align: top;\n",
       "    }\n",
       "\n",
       "    .dataframe thead th {\n",
       "        text-align: right;\n",
       "    }\n",
       "</style>\n",
       "<table border=\"1\" class=\"dataframe\">\n",
       "  <thead>\n",
       "    <tr style=\"text-align: right;\">\n",
       "      <th></th>\n",
       "      <th>WorkExp</th>\n",
       "      <th>Salary</th>\n",
       "    </tr>\n",
       "  </thead>\n",
       "  <tbody>\n",
       "    <tr>\n",
       "      <th>count</th>\n",
       "      <td>27103.000000</td>\n",
       "      <td>3.807100e+04</td>\n",
       "    </tr>\n",
       "    <tr>\n",
       "      <th>mean</th>\n",
       "      <td>10.436557</td>\n",
       "      <td>1.707613e+05</td>\n",
       "    </tr>\n",
       "    <tr>\n",
       "      <th>std</th>\n",
       "      <td>8.532661</td>\n",
       "      <td>7.814132e+05</td>\n",
       "    </tr>\n",
       "    <tr>\n",
       "      <th>min</th>\n",
       "      <td>0.000000</td>\n",
       "      <td>1.000000e+00</td>\n",
       "    </tr>\n",
       "    <tr>\n",
       "      <th>25%</th>\n",
       "      <td>4.000000</td>\n",
       "      <td>3.583200e+04</td>\n",
       "    </tr>\n",
       "    <tr>\n",
       "      <th>50%</th>\n",
       "      <td>8.000000</td>\n",
       "      <td>6.784500e+04</td>\n",
       "    </tr>\n",
       "    <tr>\n",
       "      <th>75%</th>\n",
       "      <td>15.000000</td>\n",
       "      <td>1.200000e+05</td>\n",
       "    </tr>\n",
       "    <tr>\n",
       "      <th>max</th>\n",
       "      <td>50.000000</td>\n",
       "      <td>5.000000e+07</td>\n",
       "    </tr>\n",
       "  </tbody>\n",
       "</table>\n",
       "</div>"
      ],
      "text/plain": [
       "            WorkExp        Salary\n",
       "count  27103.000000  3.807100e+04\n",
       "mean      10.436557  1.707613e+05\n",
       "std        8.532661  7.814132e+05\n",
       "min        0.000000  1.000000e+00\n",
       "25%        4.000000  3.583200e+04\n",
       "50%        8.000000  6.784500e+04\n",
       "75%       15.000000  1.200000e+05\n",
       "max       50.000000  5.000000e+07"
      ]
     },
     "execution_count": 13,
     "metadata": {},
     "output_type": "execute_result"
    }
   ],
   "source": [
    "salary_df.describe()"
   ]
  },
  {
   "cell_type": "code",
   "execution_count": 14,
   "id": "ce99d7a7",
   "metadata": {},
   "outputs": [
    {
     "data": {
      "text/plain": [
       "array(['Employed, full-time',\n",
       "       'Employed, full-time;Independent contractor, freelancer, or self-employed',\n",
       "       'Independent contractor, freelancer, or self-employed',\n",
       "       'Employed, part-time',\n",
       "       'Independent contractor, freelancer, or self-employed;Employed, part-time',\n",
       "       'Employed, full-time;Independent contractor, freelancer, or self-employed;Employed, part-time',\n",
       "       'Employed, full-time;Employed, part-time', 'I prefer not to say',\n",
       "       nan,\n",
       "       'Independent contractor, freelancer, or self-employed;Retired',\n",
       "       'Retired', 'Employed, part-time;Retired',\n",
       "       'Employed, full-time;Retired',\n",
       "       'Employed, full-time;Independent contractor, freelancer, or self-employed;Retired'],\n",
       "      dtype=object)"
      ]
     },
     "execution_count": 14,
     "metadata": {},
     "output_type": "execute_result"
    }
   ],
   "source": [
    "salary_df.Employment.unique()"
   ]
  },
  {
   "cell_type": "code",
   "execution_count": 15,
   "id": "601f6c1b",
   "metadata": {},
   "outputs": [
    {
     "data": {
      "text/plain": [
       "Index(['Employment', 'EdLevel', 'YearsCodePro', 'DevType', 'OrgSize',\n",
       "       'Country', 'LanguageHaveWorkedWith', 'DatabaseHaveWorkedWith',\n",
       "       'PlatformHaveWorkedWith', 'WebframeHaveWorkedWith',\n",
       "       'MiscTechHaveWorkedWith', 'ToolsTechHaveWorkedWith',\n",
       "       'NEWCollabToolsHaveWorkedWith', 'OpSysProfessional use', 'Age',\n",
       "       'Gender', 'WorkExp', 'Salary'],\n",
       "      dtype='object')"
      ]
     },
     "execution_count": 15,
     "metadata": {},
     "output_type": "execute_result"
    }
   ],
   "source": [
    "salary_df.columns"
   ]
  },
  {
   "cell_type": "code",
   "execution_count": 16,
   "id": "e04745e1",
   "metadata": {},
   "outputs": [
    {
     "data": {
      "text/html": [
       "<div>\n",
       "<style scoped>\n",
       "    .dataframe tbody tr th:only-of-type {\n",
       "        vertical-align: middle;\n",
       "    }\n",
       "\n",
       "    .dataframe tbody tr th {\n",
       "        vertical-align: top;\n",
       "    }\n",
       "\n",
       "    .dataframe thead th {\n",
       "        text-align: right;\n",
       "    }\n",
       "</style>\n",
       "<table border=\"1\" class=\"dataframe\">\n",
       "  <thead>\n",
       "    <tr style=\"text-align: right;\">\n",
       "      <th></th>\n",
       "      <th>Employment</th>\n",
       "      <th>EdLevel</th>\n",
       "      <th>YearsCodePro</th>\n",
       "      <th>DevType</th>\n",
       "      <th>OrgSize</th>\n",
       "      <th>Country</th>\n",
       "      <th>LanguageHaveWorkedWith</th>\n",
       "      <th>DatabaseHaveWorkedWith</th>\n",
       "      <th>PlatformHaveWorkedWith</th>\n",
       "      <th>WebframeHaveWorkedWith</th>\n",
       "      <th>MiscTechHaveWorkedWith</th>\n",
       "      <th>ToolsTechHaveWorkedWith</th>\n",
       "      <th>NEWCollabToolsHaveWorkedWith</th>\n",
       "      <th>OpSysProfessional use</th>\n",
       "      <th>Age</th>\n",
       "      <th>Gender</th>\n",
       "      <th>WorkExp</th>\n",
       "      <th>Salary</th>\n",
       "    </tr>\n",
       "    <tr>\n",
       "      <th>ResponseId</th>\n",
       "      <th></th>\n",
       "      <th></th>\n",
       "      <th></th>\n",
       "      <th></th>\n",
       "      <th></th>\n",
       "      <th></th>\n",
       "      <th></th>\n",
       "      <th></th>\n",
       "      <th></th>\n",
       "      <th></th>\n",
       "      <th></th>\n",
       "      <th></th>\n",
       "      <th></th>\n",
       "      <th></th>\n",
       "      <th></th>\n",
       "      <th></th>\n",
       "      <th></th>\n",
       "      <th></th>\n",
       "    </tr>\n",
       "  </thead>\n",
       "  <tbody>\n",
       "    <tr>\n",
       "      <th>3</th>\n",
       "      <td>Employed, full-time</td>\n",
       "      <td>Master’s degree (M.A., M.S., M.Eng., MBA, etc.)</td>\n",
       "      <td>5</td>\n",
       "      <td>Data scientist or machine learning specialist;...</td>\n",
       "      <td>20 to 99 employees</td>\n",
       "      <td>United Kingdom of Great Britain and Northern I...</td>\n",
       "      <td>C#;C++;HTML/CSS;JavaScript;Python</td>\n",
       "      <td>Microsoft SQL Server</td>\n",
       "      <td>NaN</td>\n",
       "      <td>Angular.js</td>\n",
       "      <td>Pandas</td>\n",
       "      <td>NaN</td>\n",
       "      <td>Notepad++;Visual Studio</td>\n",
       "      <td>Windows</td>\n",
       "      <td>25-34 years old</td>\n",
       "      <td>Man</td>\n",
       "      <td>NaN</td>\n",
       "      <td>40205.0</td>\n",
       "    </tr>\n",
       "    <tr>\n",
       "      <th>4</th>\n",
       "      <td>Employed, full-time</td>\n",
       "      <td>Bachelor’s degree (B.A., B.S., B.Eng., etc.)</td>\n",
       "      <td>17</td>\n",
       "      <td>Developer, full-stack</td>\n",
       "      <td>100 to 499 employees</td>\n",
       "      <td>Israel</td>\n",
       "      <td>C#;JavaScript;SQL;TypeScript</td>\n",
       "      <td>Microsoft SQL Server</td>\n",
       "      <td>NaN</td>\n",
       "      <td>ASP.NET;ASP.NET Core</td>\n",
       "      <td>.NET</td>\n",
       "      <td>NaN</td>\n",
       "      <td>Notepad++;Visual Studio;Visual Studio Code</td>\n",
       "      <td>Windows</td>\n",
       "      <td>35-44 years old</td>\n",
       "      <td>Man</td>\n",
       "      <td>NaN</td>\n",
       "      <td>215232.0</td>\n",
       "    </tr>\n",
       "    <tr>\n",
       "      <th>9</th>\n",
       "      <td>Employed, full-time</td>\n",
       "      <td>Master’s degree (M.A., M.S., M.Eng., MBA, etc.)</td>\n",
       "      <td>6</td>\n",
       "      <td>Developer, back-end</td>\n",
       "      <td>I don’t know</td>\n",
       "      <td>Netherlands</td>\n",
       "      <td>NaN</td>\n",
       "      <td>NaN</td>\n",
       "      <td>NaN</td>\n",
       "      <td>NaN</td>\n",
       "      <td>NaN</td>\n",
       "      <td>NaN</td>\n",
       "      <td>Emacs;Notepad++</td>\n",
       "      <td>Windows</td>\n",
       "      <td>25-34 years old</td>\n",
       "      <td>Woman</td>\n",
       "      <td>6.0</td>\n",
       "      <td>49056.0</td>\n",
       "    </tr>\n",
       "    <tr>\n",
       "      <th>11</th>\n",
       "      <td>Employed, full-time</td>\n",
       "      <td>Bachelor’s degree (B.A., B.S., B.Eng., etc.)</td>\n",
       "      <td>2</td>\n",
       "      <td>Developer, full-stack;Developer, back-end</td>\n",
       "      <td>100 to 499 employees</td>\n",
       "      <td>United Kingdom of Great Britain and Northern I...</td>\n",
       "      <td>Bash/Shell;C#;HTML/CSS;JavaScript;PowerShell;SQL</td>\n",
       "      <td>Microsoft SQL Server</td>\n",
       "      <td>AWS;Microsoft Azure</td>\n",
       "      <td>ASP.NET;ASP.NET Core ;Vue.js</td>\n",
       "      <td>.NET</td>\n",
       "      <td>Docker;npm;Terraform</td>\n",
       "      <td>Rider;Visual Studio;Visual Studio Code</td>\n",
       "      <td>Windows;Windows Subsystem for Linux (WSL)</td>\n",
       "      <td>18-24 years old</td>\n",
       "      <td>Man</td>\n",
       "      <td>NaN</td>\n",
       "      <td>60307.0</td>\n",
       "    </tr>\n",
       "    <tr>\n",
       "      <th>12</th>\n",
       "      <td>Employed, full-time;Independent contractor, fr...</td>\n",
       "      <td>Bachelor’s degree (B.A., B.S., B.Eng., etc.)</td>\n",
       "      <td>10</td>\n",
       "      <td>Engineering manager</td>\n",
       "      <td>20 to 99 employees</td>\n",
       "      <td>United States of America</td>\n",
       "      <td>C#;HTML/CSS;JavaScript;PowerShell;Python;Rust;SQL</td>\n",
       "      <td>Couchbase;CouchDB;Microsoft SQL Server;MongoDB...</td>\n",
       "      <td>AWS;Microsoft Azure</td>\n",
       "      <td>ASP.NET;ASP.NET Core ;Express;Node.js;Vue.js</td>\n",
       "      <td>.NET;Keras;NumPy;Pandas;Scikit-learn;TensorFlo...</td>\n",
       "      <td>Docker;Homebrew;Kubernetes</td>\n",
       "      <td>IPython/Jupyter;Neovim;Visual Studio;Visual St...</td>\n",
       "      <td>Linux-based;macOS;Windows</td>\n",
       "      <td>35-44 years old</td>\n",
       "      <td>Man</td>\n",
       "      <td>14.0</td>\n",
       "      <td>194400.0</td>\n",
       "    </tr>\n",
       "  </tbody>\n",
       "</table>\n",
       "</div>"
      ],
      "text/plain": [
       "                                                   Employment  \\\n",
       "ResponseId                                                      \n",
       "3                                         Employed, full-time   \n",
       "4                                         Employed, full-time   \n",
       "9                                         Employed, full-time   \n",
       "11                                        Employed, full-time   \n",
       "12          Employed, full-time;Independent contractor, fr...   \n",
       "\n",
       "                                                    EdLevel YearsCodePro  \\\n",
       "ResponseId                                                                 \n",
       "3           Master’s degree (M.A., M.S., M.Eng., MBA, etc.)            5   \n",
       "4              Bachelor’s degree (B.A., B.S., B.Eng., etc.)           17   \n",
       "9           Master’s degree (M.A., M.S., M.Eng., MBA, etc.)            6   \n",
       "11             Bachelor’s degree (B.A., B.S., B.Eng., etc.)            2   \n",
       "12             Bachelor’s degree (B.A., B.S., B.Eng., etc.)           10   \n",
       "\n",
       "                                                      DevType  \\\n",
       "ResponseId                                                      \n",
       "3           Data scientist or machine learning specialist;...   \n",
       "4                                       Developer, full-stack   \n",
       "9                                         Developer, back-end   \n",
       "11                  Developer, full-stack;Developer, back-end   \n",
       "12                                        Engineering manager   \n",
       "\n",
       "                         OrgSize  \\\n",
       "ResponseId                         \n",
       "3             20 to 99 employees   \n",
       "4           100 to 499 employees   \n",
       "9                   I don’t know   \n",
       "11          100 to 499 employees   \n",
       "12            20 to 99 employees   \n",
       "\n",
       "                                                      Country  \\\n",
       "ResponseId                                                      \n",
       "3           United Kingdom of Great Britain and Northern I...   \n",
       "4                                                      Israel   \n",
       "9                                                 Netherlands   \n",
       "11          United Kingdom of Great Britain and Northern I...   \n",
       "12                                   United States of America   \n",
       "\n",
       "                                       LanguageHaveWorkedWith  \\\n",
       "ResponseId                                                      \n",
       "3                           C#;C++;HTML/CSS;JavaScript;Python   \n",
       "4                                C#;JavaScript;SQL;TypeScript   \n",
       "9                                                         NaN   \n",
       "11           Bash/Shell;C#;HTML/CSS;JavaScript;PowerShell;SQL   \n",
       "12          C#;HTML/CSS;JavaScript;PowerShell;Python;Rust;SQL   \n",
       "\n",
       "                                       DatabaseHaveWorkedWith  \\\n",
       "ResponseId                                                      \n",
       "3                                        Microsoft SQL Server   \n",
       "4                                        Microsoft SQL Server   \n",
       "9                                                         NaN   \n",
       "11                                       Microsoft SQL Server   \n",
       "12          Couchbase;CouchDB;Microsoft SQL Server;MongoDB...   \n",
       "\n",
       "           PlatformHaveWorkedWith  \\\n",
       "ResponseId                          \n",
       "3                             NaN   \n",
       "4                             NaN   \n",
       "9                             NaN   \n",
       "11            AWS;Microsoft Azure   \n",
       "12            AWS;Microsoft Azure   \n",
       "\n",
       "                                  WebframeHaveWorkedWith  \\\n",
       "ResponseId                                                 \n",
       "3                                             Angular.js   \n",
       "4                                  ASP.NET;ASP.NET Core    \n",
       "9                                                    NaN   \n",
       "11                          ASP.NET;ASP.NET Core ;Vue.js   \n",
       "12          ASP.NET;ASP.NET Core ;Express;Node.js;Vue.js   \n",
       "\n",
       "                                       MiscTechHaveWorkedWith  \\\n",
       "ResponseId                                                      \n",
       "3                                                      Pandas   \n",
       "4                                                        .NET   \n",
       "9                                                         NaN   \n",
       "11                                                       .NET   \n",
       "12          .NET;Keras;NumPy;Pandas;Scikit-learn;TensorFlo...   \n",
       "\n",
       "               ToolsTechHaveWorkedWith  \\\n",
       "ResponseId                               \n",
       "3                                  NaN   \n",
       "4                                  NaN   \n",
       "9                                  NaN   \n",
       "11                Docker;npm;Terraform   \n",
       "12          Docker;Homebrew;Kubernetes   \n",
       "\n",
       "                                 NEWCollabToolsHaveWorkedWith  \\\n",
       "ResponseId                                                      \n",
       "3                                     Notepad++;Visual Studio   \n",
       "4                  Notepad++;Visual Studio;Visual Studio Code   \n",
       "9                                             Emacs;Notepad++   \n",
       "11                     Rider;Visual Studio;Visual Studio Code   \n",
       "12          IPython/Jupyter;Neovim;Visual Studio;Visual St...   \n",
       "\n",
       "                                OpSysProfessional use              Age Gender  \\\n",
       "ResponseId                                                                      \n",
       "3                                             Windows  25-34 years old    Man   \n",
       "4                                             Windows  35-44 years old    Man   \n",
       "9                                             Windows  25-34 years old  Woman   \n",
       "11          Windows;Windows Subsystem for Linux (WSL)  18-24 years old    Man   \n",
       "12                          Linux-based;macOS;Windows  35-44 years old    Man   \n",
       "\n",
       "            WorkExp    Salary  \n",
       "ResponseId                     \n",
       "3               NaN   40205.0  \n",
       "4               NaN  215232.0  \n",
       "9               6.0   49056.0  \n",
       "11              NaN   60307.0  \n",
       "12             14.0  194400.0  "
      ]
     },
     "execution_count": 16,
     "metadata": {},
     "output_type": "execute_result"
    }
   ],
   "source": [
    "salary_df.head()"
   ]
  },
  {
   "cell_type": "code",
   "execution_count": 17,
   "id": "ceb2069c",
   "metadata": {},
   "outputs": [
    {
     "data": {
      "text/plain": [
       "Employment                          4\n",
       "EdLevel                            17\n",
       "YearsCodePro                      136\n",
       "DevType                            82\n",
       "OrgSize                            29\n",
       "Country                             0\n",
       "LanguageHaveWorkedWith            111\n",
       "DatabaseHaveWorkedWith           4746\n",
       "PlatformHaveWorkedWith           9198\n",
       "WebframeHaveWorkedWith           8519\n",
       "MiscTechHaveWorkedWith          13837\n",
       "ToolsTechHaveWorkedWith          7518\n",
       "NEWCollabToolsHaveWorkedWith      291\n",
       "OpSysProfessional use            1200\n",
       "Age                                87\n",
       "Gender                            133\n",
       "WorkExp                         10968\n",
       "Salary                              0\n",
       "dtype: int64"
      ]
     },
     "execution_count": 17,
     "metadata": {},
     "output_type": "execute_result"
    }
   ],
   "source": [
    "salary_df.isnull().sum()"
   ]
  },
  {
   "cell_type": "code",
   "execution_count": 18,
   "id": "f3754f03",
   "metadata": {},
   "outputs": [
    {
     "data": {
      "text/plain": [
       "<AxesSubplot:>"
      ]
     },
     "execution_count": 18,
     "metadata": {},
     "output_type": "execute_result"
    },
    {
     "data": {
      "image/png": "[encoded data removed]",
      "text/plain": [
       "<Figure size 504x504 with 1 Axes>"
      ]
     },
     "metadata": {
      "needs_background": "light"
     },
     "output_type": "display_data"
    }
   ],
   "source": [
    "msno.dendrogram(salary_df,figsize=(7,7))"
   ]
  },
  {
   "cell_type": "code",
   "execution_count": 19,
   "id": "4546c81b",
   "metadata": {},
   "outputs": [
    {
     "data": {
      "text/plain": [
       "<AxesSubplot:>"
      ]
     },
     "execution_count": 19,
     "metadata": {},
     "output_type": "execute_result"
    },
    {
     "data": {
      "image/png": "[encoded data removed]",
      "text/plain": [
       "<Figure size 504x504 with 2 Axes>"
      ]
     },
     "metadata": {
      "needs_background": "light"
     },
     "output_type": "display_data"
    }
   ],
   "source": [
    "msno.heatmap(salary_df,cmap=\"RdYlGn\", figsize=(7,7), fontsize=12)"
   ]
  },
  {
   "cell_type": "code",
   "execution_count": 20,
   "id": "b7d2e7f8",
   "metadata": {},
   "outputs": [],
   "source": [
    "salary_df = salary_df.dropna()"
   ]
  },
  {
   "cell_type": "code",
   "execution_count": 21,
   "id": "fdeea215",
   "metadata": {},
   "outputs": [
    {
     "data": {
      "text/plain": [
       "(10384, 18)"
      ]
     },
     "execution_count": 21,
     "metadata": {},
     "output_type": "execute_result"
    }
   ],
   "source": [
    "salary_df.shape"
   ]
  },
  {
   "cell_type": "code",
   "execution_count": 22,
   "id": "89974bc4",
   "metadata": {},
   "outputs": [
    {
     "data": {
      "text/plain": [
       "array(['Bachelor’s degree (B.A., B.S., B.Eng., etc.)',\n",
       "       'Master’s degree (M.A., M.S., M.Eng., MBA, etc.)',\n",
       "       'Something else',\n",
       "       'Some college/university study without earning a degree',\n",
       "       'Secondary school (e.g. American high school, German Realschule or Gymnasium, etc.)',\n",
       "       'Associate degree (A.A., A.S., etc.)', 'Primary/elementary school',\n",
       "       'Other doctoral degree (Ph.D., Ed.D., etc.)',\n",
       "       'Professional degree (JD, MD, etc.)'], dtype=object)"
      ]
     },
     "execution_count": 22,
     "metadata": {},
     "output_type": "execute_result"
    }
   ],
   "source": [
    "salary_df.EdLevel.unique()"
   ]
  },
  {
   "cell_type": "code",
   "execution_count": 23,
   "id": "db902f08",
   "metadata": {},
   "outputs": [],
   "source": [
    "salary_df['EdLevel'] = salary_df['EdLevel'].replace(['Master’s degree (M.A., M.S., M.Eng., MBA, etc.)',\n",
    "       'Bachelor’s degree (B.A., B.S., B.Eng., etc.)',\n",
    "       'Secondary school (e.g. American high school, German Realschule or Gymnasium, etc.)',\n",
    "       'Something else', 'Associate degree (A.A., A.S., etc.)',\n",
    "       'Some college/university study without earning a degree',\n",
    "       'Professional degree (JD, MD, etc.)',\n",
    "       'Other doctoral degree (Ph.D., Ed.D., etc.)',\n",
    "       'Primary/elementary school'],['Masters','Bachelors','Undergraduate','Undergraduate','Undergraduate','Undergraduate','Postgraduate','Postgraduate','Undergraduate'])"
   ]
  },
  {
   "cell_type": "code",
   "execution_count": 24,
   "id": "d47cb6ae",
   "metadata": {},
   "outputs": [
    {
     "data": {
      "text/plain": [
       "array(['Bachelors', 'Masters', 'Undergraduate', 'Postgraduate'],\n",
       "      dtype=object)"
      ]
     },
     "execution_count": 24,
     "metadata": {},
     "output_type": "execute_result"
    }
   ],
   "source": [
    "salary_df.EdLevel.unique()"
   ]
  },
  {
   "cell_type": "code",
   "execution_count": 25,
   "id": "1a183c70",
   "metadata": {},
   "outputs": [
    {
     "data": {
      "text/plain": [
       "Bachelors        5145\n",
       "Masters          2604\n",
       "Undergraduate    2236\n",
       "Postgraduate      399\n",
       "Name: EdLevel, dtype: int64"
      ]
     },
     "execution_count": 25,
     "metadata": {},
     "output_type": "execute_result"
    }
   ],
   "source": [
    "salary_df.EdLevel.value_counts()"
   ]
  },
  {
   "cell_type": "code",
   "execution_count": 26,
   "id": "74e7f7fa",
   "metadata": {},
   "outputs": [
    {
     "data": {
      "text/plain": [
       "<AxesSubplot:xlabel='count', ylabel='EdLevel'>"
      ]
     },
     "execution_count": 26,
     "metadata": {},
     "output_type": "execute_result"
    },
    {
     "data": {
      "image/png": "[encoded data removed]",
      "text/plain": [
       "<Figure size 432x288 with 1 Axes>"
      ]
     },
     "metadata": {
      "needs_background": "light"
     },
     "output_type": "display_data"
    }
   ],
   "source": [
    "sns.countplot(y = salary_df.EdLevel,palette = \"icefire\")"
   ]
  },
  {
   "cell_type": "code",
   "execution_count": 27,
   "id": "014778f9",
   "metadata": {},
   "outputs": [
    {
     "data": {
      "text/plain": [
       "<AxesSubplot:xlabel='Salary', ylabel='EdLevel'>"
      ]
     },
     "execution_count": 27,
     "metadata": {},
     "output_type": "execute_result"
    },
    {
     "data": {
      "image/png": "[encoded data removed]",
      "text/plain": [
       "<Figure size 504x504 with 1 Axes>"
      ]
     },
     "metadata": {
      "needs_background": "light"
     },
     "output_type": "display_data"
    }
   ],
   "source": [
    "plt.figure(figsize =(7,7))\n",
    "sns.barplot( y = 'EdLevel', x =\"Salary\", hue =\"OrgSize\",data = salary_df)"
   ]
  },
  {
   "cell_type": "code",
   "execution_count": 28,
   "id": "313102a6",
   "metadata": {},
   "outputs": [
    {
     "data": {
      "text/plain": [
       "array(['10', '5', '4', '20', '9', '22', '3', '7', '8', '15', '19', '12',\n",
       "       '2', '1', 'Less than 1 year', '14', '11', '6', '25', '16', '31',\n",
       "       '17', '13', '27', '26', '23', '21', '18', '30', '32', '24', '34',\n",
       "       '35', '41', '40', '29', '28', '33', '42', '38', '45', '37', '36',\n",
       "       '39', '43', '44', 'More than 50 years', '46'], dtype=object)"
      ]
     },
     "execution_count": 28,
     "metadata": {},
     "output_type": "execute_result"
    }
   ],
   "source": [
    "salary_df.YearsCodePro.unique()"
   ]
  },
  {
   "cell_type": "code",
   "execution_count": 29,
   "id": "74134086",
   "metadata": {},
   "outputs": [
    {
     "data": {
      "text/plain": [
       "0"
      ]
     },
     "execution_count": 29,
     "metadata": {},
     "output_type": "execute_result"
    }
   ],
   "source": [
    "salary_df.YearsCodePro.isnull().sum()"
   ]
  },
  {
   "cell_type": "code",
   "execution_count": 30,
   "id": "41757949",
   "metadata": {},
   "outputs": [],
   "source": [
    "salary_df['YearsCodePro'] = salary_df['YearsCodePro'].replace(['Less than 1 year','More than 50 years'],[0.5,51])"
   ]
  },
  {
   "cell_type": "code",
   "execution_count": 31,
   "id": "3141b471",
   "metadata": {},
   "outputs": [
    {
     "data": {
      "text/plain": [
       "array(['10', '5', '4', '20', '9', '22', '3', '7', '8', '15', '19', '12',\n",
       "       '2', '1', 0.5, '14', '11', '6', '25', '16', '31', '17', '13', '27',\n",
       "       '26', '23', '21', '18', '30', '32', '24', '34', '35', '41', '40',\n",
       "       '29', '28', '33', '42', '38', '45', '37', '36', '39', '43', '44',\n",
       "       51, '46'], dtype=object)"
      ]
     },
     "execution_count": 31,
     "metadata": {},
     "output_type": "execute_result"
    }
   ],
   "source": [
    "salary_df.YearsCodePro.unique()"
   ]
  },
  {
   "cell_type": "code",
   "execution_count": 32,
   "id": "a992fdd1",
   "metadata": {},
   "outputs": [],
   "source": [
    "salary_df.YearsCodePro = salary_df.YearsCodePro.astype('float64')\n"
   ]
  },
  {
   "cell_type": "code",
   "execution_count": 33,
   "id": "25686532",
   "metadata": {},
   "outputs": [
    {
     "data": {
      "text/plain": [
       "3.0     947\n",
       "5.0     898\n",
       "4.0     831\n",
       "2.0     754\n",
       "6.0     716\n",
       "10.0    713\n",
       "8.0     630\n",
       "7.0     608\n",
       "1.0     455\n",
       "12.0    378\n",
       "15.0    353\n",
       "11.0    332\n",
       "9.0     332\n",
       "0.5     261\n",
       "20.0    246\n",
       "14.0    216\n",
       "13.0    206\n",
       "16.0    197\n",
       "22.0    176\n",
       "18.0    162\n",
       "17.0    152\n",
       "25.0    137\n",
       "23.0     90\n",
       "24.0     85\n",
       "21.0     81\n",
       "19.0     57\n",
       "30.0     56\n",
       "26.0     54\n",
       "27.0     42\n",
       "28.0     39\n",
       "32.0     26\n",
       "35.0     23\n",
       "29.0     21\n",
       "31.0     15\n",
       "38.0     15\n",
       "36.0     15\n",
       "40.0     14\n",
       "34.0     10\n",
       "33.0     10\n",
       "37.0     10\n",
       "39.0      7\n",
       "41.0      4\n",
       "43.0      3\n",
       "44.0      2\n",
       "42.0      2\n",
       "45.0      1\n",
       "51.0      1\n",
       "46.0      1\n",
       "Name: YearsCodePro, dtype: int64"
      ]
     },
     "execution_count": 33,
     "metadata": {},
     "output_type": "execute_result"
    }
   ],
   "source": [
    "salary_df.YearsCodePro.value_counts()"
   ]
  },
  {
   "cell_type": "code",
   "execution_count": 34,
   "id": "d104c06f",
   "metadata": {},
   "outputs": [
    {
     "name": "stdout",
     "output_type": "stream",
     "text": [
      "<class 'pandas.core.frame.DataFrame'>\n",
      "Int64Index: 10384 entries, 12 to 73120\n",
      "Data columns (total 18 columns):\n",
      " #   Column                        Non-Null Count  Dtype  \n",
      "---  ------                        --------------  -----  \n",
      " 0   Employment                    10384 non-null  object \n",
      " 1   EdLevel                       10384 non-null  object \n",
      " 2   YearsCodePro                  10384 non-null  float64\n",
      " 3   DevType                       10384 non-null  object \n",
      " 4   OrgSize                       10384 non-null  object \n",
      " 5   Country                       10384 non-null  object \n",
      " 6   LanguageHaveWorkedWith        10384 non-null  object \n",
      " 7   DatabaseHaveWorkedWith        10384 non-null  object \n",
      " 8   PlatformHaveWorkedWith        10384 non-null  object \n",
      " 9   WebframeHaveWorkedWith        10384 non-null  object \n",
      " 10  MiscTechHaveWorkedWith        10384 non-null  object \n",
      " 11  ToolsTechHaveWorkedWith       10384 non-null  object \n",
      " 12  NEWCollabToolsHaveWorkedWith  10384 non-null  object \n",
      " 13  OpSysProfessional use         10384 non-null  object \n",
      " 14  Age                           10384 non-null  object \n",
      " 15  Gender                        10384 non-null  object \n",
      " 16  WorkExp                       10384 non-null  float64\n",
      " 17  Salary                        10384 non-null  float64\n",
      "dtypes: float64(3), object(15)\n",
      "memory usage: 1.5+ MB\n"
     ]
    }
   ],
   "source": [
    "salary_df.info()"
   ]
  },
  {
   "cell_type": "code",
   "execution_count": 35,
   "id": "12f7a41a",
   "metadata": {},
   "outputs": [
    {
     "data": {
      "text/plain": [
       "array(['20 to 99 employees', '2 to 9 employees',\n",
       "       '5,000 to 9,999 employees', '100 to 499 employees',\n",
       "       'Just me - I am a freelancer, sole proprietor, etc.',\n",
       "       '500 to 999 employees', '10 to 19 employees',\n",
       "       '10,000 or more employees', '1,000 to 4,999 employees',\n",
       "       'I don’t know'], dtype=object)"
      ]
     },
     "execution_count": 35,
     "metadata": {},
     "output_type": "execute_result"
    }
   ],
   "source": [
    "salary_df[\"OrgSize\"].unique()"
   ]
  },
  {
   "cell_type": "code",
   "execution_count": 36,
   "id": "7f73b7d6",
   "metadata": {},
   "outputs": [],
   "source": [
    "salary_df[\"OrgSize\"] = salary_df[\"OrgSize\"].replace(['20 to 99 employees', '100 to 499 employees', 'I don’t know',\n",
    "       '2 to 9 employees', '1,000 to 4,999 employees',\n",
    "       '10,000 or more employees', '500 to 999 employees',\n",
    "       '10 to 19 employees', '5,000 to 9,999 employees',\n",
    "       'Just me - I am a freelancer, sole proprietor, etc.'],\n",
    "                                                    ['Micro enterprise','Small enterprise','Medium enterprise','Micro enterprise',\n",
    "                                                     'Medium enterprise','Large enterprise','Medium enterprise','Micro enterprise',\n",
    "                                                    'Large enterprise','Freelancer'])"
   ]
  },
  {
   "cell_type": "code",
   "execution_count": 37,
   "id": "b3cab786",
   "metadata": {},
   "outputs": [
    {
     "data": {
      "text/plain": [
       "Micro enterprise     4255\n",
       "Medium enterprise    2182\n",
       "Small enterprise     2065\n",
       "Large enterprise     1837\n",
       "Freelancer             45\n",
       "Name: OrgSize, dtype: int64"
      ]
     },
     "execution_count": 37,
     "metadata": {},
     "output_type": "execute_result"
    }
   ],
   "source": [
    "salary_df[\"OrgSize\"].value_counts(sort = True)"
   ]
  },
  {
   "cell_type": "code",
   "execution_count": 38,
   "id": "bbf3a306",
   "metadata": {},
   "outputs": [
    {
     "data": {
      "text/plain": [
       "<AxesSubplot:xlabel='count', ylabel='OrgSize'>"
      ]
     },
     "execution_count": 38,
     "metadata": {},
     "output_type": "execute_result"
    },
    {
     "data": {
      "image/png": "[encoded data removed]",
      "text/plain": [
       "<Figure size 432x288 with 1 Axes>"
      ]
     },
     "metadata": {
      "needs_background": "light"
     },
     "output_type": "display_data"
    }
   ],
   "source": [
    "sns.countplot(y = salary_df.OrgSize,order = salary_df['OrgSize'].value_counts().index,palette = \"icefire\")"
   ]
  },
  {
   "cell_type": "code",
   "execution_count": 39,
   "id": "ac581c72",
   "metadata": {},
   "outputs": [
    {
     "data": {
      "text/plain": [
       "array(['United States of America', 'Italy', 'Canada', 'Germany',\n",
       "       'Ireland', 'Poland', 'Norway', 'Netherlands', 'Uruguay', 'Spain',\n",
       "       'France', 'United Kingdom of Great Britain and Northern Ireland',\n",
       "       'Sweden', 'India', 'Greece', 'Latvia', 'Thailand', 'China',\n",
       "       'Brazil', 'Israel', 'Czech Republic', 'Viet Nam', 'Portugal',\n",
       "       'Tunisia', 'Australia', 'Denmark', 'Switzerland', 'Finland',\n",
       "       'Ukraine', 'Mexico', 'Austria', 'Hungary', 'Belgium', 'Croatia',\n",
       "       'Bosnia and Herzegovina', 'Lithuania', 'Turkey', 'Costa Rica',\n",
       "       'Estonia', 'Morocco', 'Slovakia', 'South Africa', 'Serbia',\n",
       "       'Ecuador', 'Russian Federation', 'Iran, Islamic Republic of...',\n",
       "       'Andorra', 'Bangladesh', 'Indonesia', 'Pakistan', 'Lebanon',\n",
       "       'Japan', 'Argentina', 'Hong Kong (S.A.R.)', 'Egypt', 'New Zealand',\n",
       "       'Chile', 'Jordan', 'Azerbaijan', 'Sri Lanka', 'Singapore',\n",
       "       'South Korea', 'Romania', 'Taiwan', 'Saudi Arabia', 'Malaysia',\n",
       "       'Slovenia', 'Bulgaria', 'Republic of Korea', 'Luxembourg',\n",
       "       'United Arab Emirates', 'Montenegro', 'Philippines', 'Tajikistan',\n",
       "       'Kazakhstan', 'Afghanistan',\n",
       "       'The former Yugoslav Republic of Macedonia',\n",
       "       'United Republic of Tanzania', 'Cameroon', 'Nigeria',\n",
       "       'Turkmenistan', 'Republic of Moldova', 'Mongolia', 'Botswana',\n",
       "       'Belarus', 'Kenya', 'Myanmar', 'Kosovo', 'Georgia', 'Armenia',\n",
       "       'Colombia', 'Rwanda', 'Nepal', 'Cuba', 'Bolivia', 'Panama',\n",
       "       'Iceland', 'Albania', 'Dominican Republic', 'Honduras', 'Bahrain',\n",
       "       'Paraguay', 'Peru', 'El Salvador',\n",
       "       'Venezuela, Bolivarian Republic of...', 'Cambodia', 'Ethiopia',\n",
       "       \"Côte d'Ivoire\", 'Uganda', 'Nicaragua', 'Ghana', 'Timor-Leste',\n",
       "       'Malta', 'Isle of Man', 'Mozambique', 'Kuwait',\n",
       "       'Libyan Arab Jamahiriya', 'Angola', 'Oman', 'Iraq',\n",
       "       'Syrian Arab Republic', 'Kyrgyzstan', 'Palestine', 'Sudan',\n",
       "       'Nomadic', 'Guinea', 'Zimbabwe', 'Algeria', 'Cape Verde', 'Benin',\n",
       "       'Senegal', 'Cyprus', 'Congo, Republic of the...', 'Togo',\n",
       "       'Guatemala', 'Madagascar', 'Jamaica', 'Yemen', 'Malawi',\n",
       "       'Mauritius', 'Qatar', 'Maldives', 'Guyana', 'Palau', 'Zambia',\n",
       "       'Uzbekistan', 'Democratic Republic of the Congo',\n",
       "       'Trinidad and Tobago', 'Mali', 'Bhutan'], dtype=object)"
      ]
     },
     "execution_count": 39,
     "metadata": {},
     "output_type": "execute_result"
    }
   ],
   "source": [
    "salary_df.Country.unique()"
   ]
  },
  {
   "cell_type": "code",
   "execution_count": 40,
   "id": "8c9d89d1",
   "metadata": {},
   "outputs": [
    {
     "data": {
      "text/plain": [
       "10384"
      ]
     },
     "execution_count": 40,
     "metadata": {},
     "output_type": "execute_result"
    }
   ],
   "source": [
    "len(salary_df['Country'])"
   ]
  },
  {
   "cell_type": "code",
   "execution_count": 41,
   "id": "3a24865c",
   "metadata": {},
   "outputs": [
    {
     "data": {
      "text/plain": [
       "United States of America                                2325\n",
       "India                                                    712\n",
       "Germany                                                  684\n",
       "United Kingdom of Great Britain and Northern Ireland     682\n",
       "Brazil                                                   465\n",
       "                                                        ... \n",
       "Iraq                                                       1\n",
       "Libyan Arab Jamahiriya                                     1\n",
       "Timor-Leste                                                1\n",
       "Tajikistan                                                 1\n",
       "Bhutan                                                     1\n",
       "Name: Country, Length: 150, dtype: int64"
      ]
     },
     "execution_count": 41,
     "metadata": {},
     "output_type": "execute_result"
    }
   ],
   "source": [
    "country_count = salary_df.Country.value_counts(())\n",
    "country_count"
   ]
  },
  {
   "cell_type": "code",
   "execution_count": 42,
   "id": "4a6026c0",
   "metadata": {},
   "outputs": [],
   "source": [
    "def clean_data(x):\n",
    "    list = salary_df[x].str.split(\";\",expand = True)\n",
    "    list.stack()\n",
    "    count = list.stack().value_counts(sort = True)\n",
    "    print(count)\n",
    "    df = pd.DataFrame(count).reset_index()\n",
    "    df.columns = [x,'count']\n",
    "    plt.figure(figsize =(15,15))\n",
    "    \n",
    "    sns.barplot(y = x, x = 'count', data = df,palette = \"icefire\")\n",
    "    plt.xticks(rotation = 45)\n",
    "    return plt.show()"
   ]
  },
  {
   "cell_type": "code",
   "execution_count": 43,
   "id": "efabd676",
   "metadata": {},
   "outputs": [
    {
     "name": "stdout",
     "output_type": "stream",
     "text": [
      "JavaScript     8388\n",
      "SQL            6854\n",
      "HTML/CSS       6764\n",
      "TypeScript     5952\n",
      "Python         5202\n",
      "C#             4372\n",
      "Java           3922\n",
      "Bash/Shell     3798\n",
      "PHP            2295\n",
      "PowerShell     2067\n",
      "C++            1767\n",
      "Go             1698\n",
      "C              1397\n",
      "Kotlin         1182\n",
      "Dart            953\n",
      "Rust            929\n",
      "Ruby            842\n",
      "Groovy          592\n",
      "Swift           584\n",
      "VBA             521\n",
      "R               448\n",
      "Scala           430\n",
      "Lua             385\n",
      "Assembly        373\n",
      "MATLAB          343\n",
      "Objective-C     340\n",
      "Elixir          304\n",
      "Perl            248\n",
      "Delphi          204\n",
      "F#              201\n",
      "Solidity        192\n",
      "Haskell         180\n",
      "Clojure         166\n",
      "Erlang          126\n",
      "LISP            105\n",
      "Julia            89\n",
      "COBOL            71\n",
      "SAS              69\n",
      "Fortran          61\n",
      "Crystal          48\n",
      "OCaml            36\n",
      "APL              34\n",
      "dtype: int64\n"
     ]
    },
    {
     "data": {
      "image/png": "[encoded data removed]",
      "text/plain": [
       "<Figure size 1080x1080 with 1 Axes>"
      ]
     },
     "metadata": {
      "needs_background": "light"
     },
     "output_type": "display_data"
    }
   ],
   "source": [
    "clean_data('LanguageHaveWorkedWith')"
   ]
  },
  {
   "cell_type": "code",
   "execution_count": 44,
   "id": "4b63fe83",
   "metadata": {},
   "outputs": [
    {
     "name": "stdout",
     "output_type": "stream",
     "text": [
      "AWS                            6220\n",
      "Microsoft Azure                4115\n",
      "Google Cloud                   2998\n",
      "Firebase                       2252\n",
      "Heroku                         2008\n",
      "DigitalOcean                   1895\n",
      "VMware                          836\n",
      "Managed Hosting                 692\n",
      "OVH                             422\n",
      "Linode                          390\n",
      "OpenStack                       228\n",
      "Oracle Cloud Infrastructure     184\n",
      "IBM Cloud or Watson             176\n",
      "Colocation                      150\n",
      "dtype: int64\n"
     ]
    },
    {
     "data": {
      "image/png": "[encoded data removed]",
      "text/plain": [
       "<Figure size 1080x1080 with 1 Axes>"
      ]
     },
     "metadata": {
      "needs_background": "light"
     },
     "output_type": "display_data"
    }
   ],
   "source": [
    "clean_data('PlatformHaveWorkedWith')"
   ]
  },
  {
   "cell_type": "code",
   "execution_count": 45,
   "id": "f2b00130",
   "metadata": {},
   "outputs": [
    {
     "name": "stdout",
     "output_type": "stream",
     "text": [
      "Node.js           5410\n",
      "React.js          5137\n",
      "ASP.NET Core      3180\n",
      "Angular           3090\n",
      "jQuery            3080\n",
      "Express           2805\n",
      "Vue.js            2275\n",
      "ASP.NET           2225\n",
      "Flask             1793\n",
      "Django            1609\n",
      "Next.js           1585\n",
      "Angular.js        1283\n",
      "Laravel            959\n",
      "FastAPI            918\n",
      "Blazor             692\n",
      "Ruby on Rails      630\n",
      "Gatsby             499\n",
      "Svelte             488\n",
      "Nuxt.js            439\n",
      "Symfony            369\n",
      "Fastify            255\n",
      "Drupal             242\n",
      "Phoenix            221\n",
      "Deno               178\n",
      "Play Framework     117\n",
      "dtype: int64\n"
     ]
    },
    {
     "data": {
      "image/png": "[encoded data removed]",
      "text/plain": [
       "<Figure size 1080x1080 with 1 Axes>"
      ]
     },
     "metadata": {
      "needs_background": "light"
     },
     "output_type": "display_data"
    }
   ],
   "source": [
    "clean_data('WebframeHaveWorkedWith')"
   ]
  },
  {
   "cell_type": "code",
   "execution_count": 46,
   "id": "320d7332",
   "metadata": {},
   "outputs": [
    {
     "name": "stdout",
     "output_type": "stream",
     "text": [
      ".NET                         4003\n",
      "NumPy                        2365\n",
      "Pandas                       2313\n",
      "Spring                       2036\n",
      "React Native                 1811\n",
      "Apache Kafka                 1620\n",
      "Flutter                      1322\n",
      "Electron                     1269\n",
      "TensorFlow                   1151\n",
      "Scikit-learn                 1058\n",
      "Ionic                         804\n",
      "Torch/PyTorch                 698\n",
      "Cordova                       645\n",
      "Xamarin                       617\n",
      "Apache Spark                  604\n",
      "Keras                         595\n",
      "Qt                            560\n",
      "Hadoop                        376\n",
      "Capacitor                     370\n",
      "Hugging Face Transformers     203\n",
      "GTK                           170\n",
      "Tidyverse                     125\n",
      "Uno Platform                   51\n",
      "dtype: int64\n"
     ]
    },
    {
     "data": {
      "image/png": "[encoded data removed]",
      "text/plain": [
       "<Figure size 1080x1080 with 1 Axes>"
      ]
     },
     "metadata": {
      "needs_background": "light"
     },
     "output_type": "display_data"
    }
   ],
   "source": [
    "clean_data('MiscTechHaveWorkedWith')"
   ]
  },
  {
   "cell_type": "code",
   "execution_count": 47,
   "id": "4bab9916",
   "metadata": {},
   "outputs": [
    {
     "name": "stdout",
     "output_type": "stream",
     "text": [
      "Docker           7972\n",
      "npm              7686\n",
      "Yarn             3609\n",
      "Kubernetes       3558\n",
      "Homebrew         3281\n",
      "Terraform        1836\n",
      "Ansible          1222\n",
      "Unity 3D          859\n",
      "Unreal Engine     340\n",
      "Puppet            242\n",
      "Chef              212\n",
      "Pulumi            147\n",
      "Flow               86\n",
      "dtype: int64\n"
     ]
    },
    {
     "data": {
      "image/png": "[encoded data removed]",
      "text/plain": [
       "<Figure size 1080x1080 with 1 Axes>"
      ]
     },
     "metadata": {
      "needs_background": "light"
     },
     "output_type": "display_data"
    }
   ],
   "source": [
    "clean_data('ToolsTechHaveWorkedWith')"
   ]
  },
  {
   "cell_type": "code",
   "execution_count": 48,
   "id": "e2322197",
   "metadata": {},
   "outputs": [
    {
     "name": "stdout",
     "output_type": "stream",
     "text": [
      "Visual Studio Code                  8749\n",
      "Visual Studio                       4254\n",
      "IntelliJ                            3637\n",
      "Notepad++                           3305\n",
      "Vim                                 2892\n",
      "Android Studio                      2634\n",
      "PyCharm                             1935\n",
      "Sublime Text                        1928\n",
      "Xcode                               1664\n",
      "Eclipse                             1440\n",
      "IPython/Jupyter                     1395\n",
      "Webstorm                            1282\n",
      "Nano                                1238\n",
      "Rider                               1027\n",
      "Atom                                1007\n",
      "PhpStorm                             802\n",
      "Neovim                               688\n",
      "NetBeans                             614\n",
      "GoLand                               553\n",
      "CLion                                463\n",
      "Emacs                                435\n",
      "RStudio                              312\n",
      "Qt Creator                           250\n",
      "RubyMine                             224\n",
      "Spyder                               192\n",
      "RAD Studio (Delphi, C++ Builder)     119\n",
      "TextMate                             105\n",
      "dtype: int64\n"
     ]
    },
    {
     "data": {
      "image/png": "[encoded data removed]",
      "text/plain": [
       "<Figure size 1080x1080 with 1 Axes>"
      ]
     },
     "metadata": {
      "needs_background": "light"
     },
     "output_type": "display_data"
    }
   ],
   "source": [
    "clean_data('NEWCollabToolsHaveWorkedWith')"
   ]
  },
  {
   "cell_type": "code",
   "execution_count": 49,
   "id": "66238160",
   "metadata": {},
   "outputs": [
    {
     "name": "stdout",
     "output_type": "stream",
     "text": [
      "Windows                              5519\n",
      "macOS                                4638\n",
      "Linux-based                          4401\n",
      "Windows Subsystem for Linux (WSL)    2298\n",
      "BSD                                    97\n",
      "Other (please specify):                31\n",
      "dtype: int64\n"
     ]
    },
    {
     "data": {
      "image/png": "[encoded data removed]",
      "text/plain": [
       "<Figure size 1080x1080 with 1 Axes>"
      ]
     },
     "metadata": {
      "needs_background": "light"
     },
     "output_type": "display_data"
    }
   ],
   "source": [
    "clean_data('OpSysProfessional use')"
   ]
  },
  {
   "cell_type": "code",
   "execution_count": 50,
   "id": "6bbc60f8",
   "metadata": {},
   "outputs": [
    {
     "data": {
      "text/plain": [
       "Index(['Employment', 'EdLevel', 'YearsCodePro', 'DevType', 'OrgSize',\n",
       "       'Country', 'LanguageHaveWorkedWith', 'DatabaseHaveWorkedWith',\n",
       "       'PlatformHaveWorkedWith', 'WebframeHaveWorkedWith',\n",
       "       'MiscTechHaveWorkedWith', 'ToolsTechHaveWorkedWith',\n",
       "       'NEWCollabToolsHaveWorkedWith', 'OpSysProfessional use', 'Age',\n",
       "       'Gender', 'WorkExp', 'Salary'],\n",
       "      dtype='object')"
      ]
     },
     "execution_count": 50,
     "metadata": {},
     "output_type": "execute_result"
    }
   ],
   "source": [
    "salary_df.columns"
   ]
  },
  {
   "cell_type": "code",
   "execution_count": 51,
   "id": "fbcbf7f6",
   "metadata": {},
   "outputs": [
    {
     "data": {
      "text/plain": [
       "array(['35-44 years old', '25-34 years old', '45-54 years old',\n",
       "       '18-24 years old', '55-64 years old', 'Under 18 years old',\n",
       "       '65 years or older', 'Prefer not to say'], dtype=object)"
      ]
     },
     "execution_count": 51,
     "metadata": {},
     "output_type": "execute_result"
    }
   ],
   "source": [
    "salary_df.Age.unique()"
   ]
  },
  {
   "cell_type": "code",
   "execution_count": 52,
   "id": "f773143f",
   "metadata": {},
   "outputs": [
    {
     "data": {
      "text/html": [
       "<div>\n",
       "<style scoped>\n",
       "    .dataframe tbody tr th:only-of-type {\n",
       "        vertical-align: middle;\n",
       "    }\n",
       "\n",
       "    .dataframe tbody tr th {\n",
       "        vertical-align: top;\n",
       "    }\n",
       "\n",
       "    .dataframe thead th {\n",
       "        text-align: right;\n",
       "    }\n",
       "</style>\n",
       "<table border=\"1\" class=\"dataframe\">\n",
       "  <thead>\n",
       "    <tr style=\"text-align: right;\">\n",
       "      <th></th>\n",
       "      <th>Employment</th>\n",
       "      <th>EdLevel</th>\n",
       "      <th>YearsCodePro</th>\n",
       "      <th>DevType</th>\n",
       "      <th>OrgSize</th>\n",
       "      <th>Country</th>\n",
       "      <th>LanguageHaveWorkedWith</th>\n",
       "      <th>DatabaseHaveWorkedWith</th>\n",
       "      <th>PlatformHaveWorkedWith</th>\n",
       "      <th>WebframeHaveWorkedWith</th>\n",
       "      <th>MiscTechHaveWorkedWith</th>\n",
       "      <th>ToolsTechHaveWorkedWith</th>\n",
       "      <th>NEWCollabToolsHaveWorkedWith</th>\n",
       "      <th>OpSysProfessional use</th>\n",
       "      <th>Age</th>\n",
       "      <th>Gender</th>\n",
       "      <th>WorkExp</th>\n",
       "      <th>Salary</th>\n",
       "    </tr>\n",
       "    <tr>\n",
       "      <th>ResponseId</th>\n",
       "      <th></th>\n",
       "      <th></th>\n",
       "      <th></th>\n",
       "      <th></th>\n",
       "      <th></th>\n",
       "      <th></th>\n",
       "      <th></th>\n",
       "      <th></th>\n",
       "      <th></th>\n",
       "      <th></th>\n",
       "      <th></th>\n",
       "      <th></th>\n",
       "      <th></th>\n",
       "      <th></th>\n",
       "      <th></th>\n",
       "      <th></th>\n",
       "      <th></th>\n",
       "      <th></th>\n",
       "    </tr>\n",
       "  </thead>\n",
       "  <tbody>\n",
       "    <tr>\n",
       "      <th>12</th>\n",
       "      <td>Employed, full-time;Independent contractor, fr...</td>\n",
       "      <td>Bachelors</td>\n",
       "      <td>10.0</td>\n",
       "      <td>Engineering manager</td>\n",
       "      <td>Micro enterprise</td>\n",
       "      <td>United States of America</td>\n",
       "      <td>C#;HTML/CSS;JavaScript;PowerShell;Python;Rust;SQL</td>\n",
       "      <td>Couchbase;CouchDB;Microsoft SQL Server;MongoDB...</td>\n",
       "      <td>AWS;Microsoft Azure</td>\n",
       "      <td>ASP.NET;ASP.NET Core ;Express;Node.js;Vue.js</td>\n",
       "      <td>.NET;Keras;NumPy;Pandas;Scikit-learn;TensorFlo...</td>\n",
       "      <td>Docker;Homebrew;Kubernetes</td>\n",
       "      <td>IPython/Jupyter;Neovim;Visual Studio;Visual St...</td>\n",
       "      <td>Linux-based;macOS;Windows</td>\n",
       "      <td>35-44</td>\n",
       "      <td>Man</td>\n",
       "      <td>14.0</td>\n",
       "      <td>194400.0</td>\n",
       "    </tr>\n",
       "    <tr>\n",
       "      <th>13</th>\n",
       "      <td>Employed, full-time</td>\n",
       "      <td>Bachelors</td>\n",
       "      <td>5.0</td>\n",
       "      <td>Developer, full-stack</td>\n",
       "      <td>Micro enterprise</td>\n",
       "      <td>United States of America</td>\n",
       "      <td>C;HTML/CSS;Rust;SQL;Swift;TypeScript</td>\n",
       "      <td>PostgreSQL</td>\n",
       "      <td>AWS</td>\n",
       "      <td>React.js</td>\n",
       "      <td>Torch/PyTorch</td>\n",
       "      <td>Docker</td>\n",
       "      <td>Vim;Visual Studio</td>\n",
       "      <td>macOS</td>\n",
       "      <td>25-34</td>\n",
       "      <td>Man</td>\n",
       "      <td>5.0</td>\n",
       "      <td>65000.0</td>\n",
       "    </tr>\n",
       "    <tr>\n",
       "      <th>15</th>\n",
       "      <td>Employed, full-time;Independent contractor, fr...</td>\n",
       "      <td>Masters</td>\n",
       "      <td>5.0</td>\n",
       "      <td>Developer, full-stack;Academic researcher;DevO...</td>\n",
       "      <td>Large enterprise</td>\n",
       "      <td>United States of America</td>\n",
       "      <td>HTML/CSS;JavaScript;PHP;Python;R;Ruby;Scala</td>\n",
       "      <td>Elasticsearch;MongoDB;Neo4j;PostgreSQL</td>\n",
       "      <td>AWS;DigitalOcean;Heroku</td>\n",
       "      <td>Django;Flask;jQuery;Node.js;Ruby on Rails;Vue.js</td>\n",
       "      <td>Apache Kafka;Apache Spark;NumPy;Pandas;Tidyverse</td>\n",
       "      <td>Docker;npm;Yarn</td>\n",
       "      <td>IPython/Jupyter;Nano;RStudio;Visual Studio Code</td>\n",
       "      <td>macOS</td>\n",
       "      <td>25-34</td>\n",
       "      <td>Man</td>\n",
       "      <td>5.0</td>\n",
       "      <td>110000.0</td>\n",
       "    </tr>\n",
       "    <tr>\n",
       "      <th>22</th>\n",
       "      <td>Employed, full-time</td>\n",
       "      <td>Masters</td>\n",
       "      <td>4.0</td>\n",
       "      <td>Developer, full-stack</td>\n",
       "      <td>Micro enterprise</td>\n",
       "      <td>Italy</td>\n",
       "      <td>Python;SQL;TypeScript</td>\n",
       "      <td>MySQL;Redis;SQLite</td>\n",
       "      <td>Google Cloud;OVH;VMware</td>\n",
       "      <td>Angular;FastAPI;Vue.js</td>\n",
       "      <td>NumPy;Pandas</td>\n",
       "      <td>Docker;Kubernetes</td>\n",
       "      <td>Neovim;Sublime Text;Visual Studio Code</td>\n",
       "      <td>Windows Subsystem for Linux (WSL)</td>\n",
       "      <td>25-34</td>\n",
       "      <td>Man</td>\n",
       "      <td>4.0</td>\n",
       "      <td>34126.0</td>\n",
       "    </tr>\n",
       "    <tr>\n",
       "      <th>23</th>\n",
       "      <td>Employed, full-time</td>\n",
       "      <td>Undergraduate</td>\n",
       "      <td>20.0</td>\n",
       "      <td>Developer, back-end</td>\n",
       "      <td>Small enterprise</td>\n",
       "      <td>Canada</td>\n",
       "      <td>C#;SQL;TypeScript</td>\n",
       "      <td>Microsoft SQL Server;PostgreSQL;Redis</td>\n",
       "      <td>Google Cloud;Microsoft Azure</td>\n",
       "      <td>Angular;ASP.NET Core ;React.js</td>\n",
       "      <td>.NET</td>\n",
       "      <td>Docker;Kubernetes;npm;Terraform;Yarn</td>\n",
       "      <td>Rider;Visual Studio;Visual Studio Code</td>\n",
       "      <td>Windows</td>\n",
       "      <td>35-44</td>\n",
       "      <td>Man</td>\n",
       "      <td>23.0</td>\n",
       "      <td>97605.0</td>\n",
       "    </tr>\n",
       "  </tbody>\n",
       "</table>\n",
       "</div>"
      ],
      "text/plain": [
       "                                                   Employment        EdLevel  \\\n",
       "ResponseId                                                                     \n",
       "12          Employed, full-time;Independent contractor, fr...      Bachelors   \n",
       "13                                        Employed, full-time      Bachelors   \n",
       "15          Employed, full-time;Independent contractor, fr...        Masters   \n",
       "22                                        Employed, full-time        Masters   \n",
       "23                                        Employed, full-time  Undergraduate   \n",
       "\n",
       "            YearsCodePro                                            DevType  \\\n",
       "ResponseId                                                                    \n",
       "12                  10.0                                Engineering manager   \n",
       "13                   5.0                              Developer, full-stack   \n",
       "15                   5.0  Developer, full-stack;Academic researcher;DevO...   \n",
       "22                   4.0                              Developer, full-stack   \n",
       "23                  20.0                                Developer, back-end   \n",
       "\n",
       "                     OrgSize                   Country  \\\n",
       "ResponseId                                               \n",
       "12          Micro enterprise  United States of America   \n",
       "13          Micro enterprise  United States of America   \n",
       "15          Large enterprise  United States of America   \n",
       "22          Micro enterprise                     Italy   \n",
       "23          Small enterprise                    Canada   \n",
       "\n",
       "                                       LanguageHaveWorkedWith  \\\n",
       "ResponseId                                                      \n",
       "12          C#;HTML/CSS;JavaScript;PowerShell;Python;Rust;SQL   \n",
       "13                       C;HTML/CSS;Rust;SQL;Swift;TypeScript   \n",
       "15                HTML/CSS;JavaScript;PHP;Python;R;Ruby;Scala   \n",
       "22                                      Python;SQL;TypeScript   \n",
       "23                                          C#;SQL;TypeScript   \n",
       "\n",
       "                                       DatabaseHaveWorkedWith  \\\n",
       "ResponseId                                                      \n",
       "12          Couchbase;CouchDB;Microsoft SQL Server;MongoDB...   \n",
       "13                                                 PostgreSQL   \n",
       "15                     Elasticsearch;MongoDB;Neo4j;PostgreSQL   \n",
       "22                                         MySQL;Redis;SQLite   \n",
       "23                      Microsoft SQL Server;PostgreSQL;Redis   \n",
       "\n",
       "                  PlatformHaveWorkedWith  \\\n",
       "ResponseId                                 \n",
       "12                   AWS;Microsoft Azure   \n",
       "13                                   AWS   \n",
       "15               AWS;DigitalOcean;Heroku   \n",
       "22               Google Cloud;OVH;VMware   \n",
       "23          Google Cloud;Microsoft Azure   \n",
       "\n",
       "                                      WebframeHaveWorkedWith  \\\n",
       "ResponseId                                                     \n",
       "12              ASP.NET;ASP.NET Core ;Express;Node.js;Vue.js   \n",
       "13                                                  React.js   \n",
       "15          Django;Flask;jQuery;Node.js;Ruby on Rails;Vue.js   \n",
       "22                                    Angular;FastAPI;Vue.js   \n",
       "23                            Angular;ASP.NET Core ;React.js   \n",
       "\n",
       "                                       MiscTechHaveWorkedWith  \\\n",
       "ResponseId                                                      \n",
       "12          .NET;Keras;NumPy;Pandas;Scikit-learn;TensorFlo...   \n",
       "13                                              Torch/PyTorch   \n",
       "15           Apache Kafka;Apache Spark;NumPy;Pandas;Tidyverse   \n",
       "22                                               NumPy;Pandas   \n",
       "23                                                       .NET   \n",
       "\n",
       "                         ToolsTechHaveWorkedWith  \\\n",
       "ResponseId                                         \n",
       "12                    Docker;Homebrew;Kubernetes   \n",
       "13                                        Docker   \n",
       "15                               Docker;npm;Yarn   \n",
       "22                             Docker;Kubernetes   \n",
       "23          Docker;Kubernetes;npm;Terraform;Yarn   \n",
       "\n",
       "                                 NEWCollabToolsHaveWorkedWith  \\\n",
       "ResponseId                                                      \n",
       "12          IPython/Jupyter;Neovim;Visual Studio;Visual St...   \n",
       "13                                          Vim;Visual Studio   \n",
       "15            IPython/Jupyter;Nano;RStudio;Visual Studio Code   \n",
       "22                     Neovim;Sublime Text;Visual Studio Code   \n",
       "23                     Rider;Visual Studio;Visual Studio Code   \n",
       "\n",
       "                        OpSysProfessional use    Age Gender  WorkExp    Salary  \n",
       "ResponseId                                                                      \n",
       "12                  Linux-based;macOS;Windows  35-44    Man     14.0  194400.0  \n",
       "13                                      macOS  25-34    Man      5.0   65000.0  \n",
       "15                                      macOS  25-34    Man      5.0  110000.0  \n",
       "22          Windows Subsystem for Linux (WSL)  25-34    Man      4.0   34126.0  \n",
       "23                                    Windows  35-44    Man     23.0   97605.0  "
      ]
     },
     "execution_count": 52,
     "metadata": {},
     "output_type": "execute_result"
    }
   ],
   "source": [
    "salary_df['Age'] = salary_df.Age.replace(['25-34 years old', '35-44 years old', '18-24 years old','55-64 years old', '45-54 years old', 'Under 18 years old','65 years or older', 'Prefer not to say'],['25-34','35-44','18-24','55-64','45-54','<18','>65',np.nan])\n",
    "salary_df = salary_df.dropna()\n",
    "salary_df.head()"
   ]
  },
  {
   "cell_type": "code",
   "execution_count": 53,
   "id": "c9b4dc87",
   "metadata": {},
   "outputs": [],
   "source": [
    "age_count = salary_df.Age.value_counts()\n",
    "Age = pd.DataFrame(age_count)"
   ]
  },
  {
   "cell_type": "code",
   "execution_count": 54,
   "id": "ce3ac5d6",
   "metadata": {},
   "outputs": [
    {
     "name": "stdout",
     "output_type": "stream",
     "text": [
      "Age      Count\n",
      "-----  -------\n",
      "25-34     5584\n",
      "35-44     2467\n",
      "18-24     1405\n",
      "45-54      720\n",
      "55-64      166\n",
      ">65         15\n",
      "<18         13\n"
     ]
    }
   ],
   "source": [
    "from tabulate import tabulate\n",
    "print(tabulate(Age, headers=['Age', 'Count']))"
   ]
  },
  {
   "cell_type": "code",
   "execution_count": 55,
   "id": "c3f39b31",
   "metadata": {},
   "outputs": [
    {
     "data": {
      "text/plain": [
       "<AxesSubplot:xlabel='count', ylabel='Age'>"
      ]
     },
     "execution_count": 55,
     "metadata": {},
     "output_type": "execute_result"
    },
    {
     "data": {
      "image/png": "[encoded data removed]",
      "text/plain": [
       "<Figure size 504x504 with 1 Axes>"
      ]
     },
     "metadata": {
      "needs_background": "light"
     },
     "output_type": "display_data"
    }
   ],
   "source": [
    "plt.figure(figsize =(7,7))\n",
    "sns.countplot(y = salary_df.Age,order = salary_df['Age'].value_counts().index,palette = \"icefire\")"
   ]
  },
  {
   "cell_type": "code",
   "execution_count": 56,
   "id": "735700dc",
   "metadata": {},
   "outputs": [
    {
     "data": {
      "text/plain": [
       "array(['Man', 'Woman', 'Prefer not to say', 'Or, in your own words:',\n",
       "       'Woman;Non-binary, genderqueer, or gender non-conforming',\n",
       "       'Non-binary, genderqueer, or gender non-conforming',\n",
       "       'Man;Non-binary, genderqueer, or gender non-conforming',\n",
       "       'Man;Or, in your own words:;Woman;Non-binary, genderqueer, or gender non-conforming',\n",
       "       'Or, in your own words:;Woman;Non-binary, genderqueer, or gender non-conforming',\n",
       "       'Man;Or, in your own words:',\n",
       "       'Man;Woman;Non-binary, genderqueer, or gender non-conforming',\n",
       "       'Man;Or, in your own words:;Non-binary, genderqueer, or gender non-conforming',\n",
       "       'Or, in your own words:;Non-binary, genderqueer, or gender non-conforming',\n",
       "       'Man;Woman'], dtype=object)"
      ]
     },
     "execution_count": 56,
     "metadata": {},
     "output_type": "execute_result"
    }
   ],
   "source": [
    "salary_df.Gender.unique()"
   ]
  },
  {
   "cell_type": "code",
   "execution_count": 57,
   "id": "6fcbb610",
   "metadata": {},
   "outputs": [
    {
     "data": {
      "text/plain": [
       "array(['Man', 'Woman', 'Others'], dtype=object)"
      ]
     },
     "execution_count": 57,
     "metadata": {},
     "output_type": "execute_result"
    }
   ],
   "source": [
    "salary_df.Gender = salary_df.Gender.replace(['Man', 'Woman', 'Prefer not to say',\n",
    "                                             'Non-binary, genderqueer, or gender non-conforming',\n",
    "                                             'Man;Non-binary, genderqueer, or gender non-conforming',\n",
    "                                             'Woman;Non-binary, genderqueer, or gender non-conforming',\n",
    "                                             'Man;Or, in your own words:;Woman;Non-binary, genderqueer, or gender non-conforming','Or, in your own words:', 'Man;Or, in your own words:','Man;Or, in your own words:;Non-binary, genderqueer, or gender non-conforming','Or, in your own words:;Woman;Non-binary, genderqueer, or gender non-conforming','Man;Woman;Non-binary, genderqueer, or gender non-conforming','Or, in your own words:;Non-binary, genderqueer, or gender non-conforming','Man;Woman'],\n",
    "                                            ['Man','Woman','Others','Others','Man','Woman','Others','Others','Others','Others','Others','Others','Others','Others'])\n",
    "salary_df.Gender.unique()"
   ]
  },
  {
   "cell_type": "code",
   "execution_count": 58,
   "id": "8f69e21c",
   "metadata": {},
   "outputs": [
    {
     "data": {
      "text/plain": [
       "Man       9778\n",
       "Woman      380\n",
       "Others     212\n",
       "Name: Gender, dtype: int64"
      ]
     },
     "execution_count": 58,
     "metadata": {},
     "output_type": "execute_result"
    }
   ],
   "source": [
    "gender_count = salary_df.Gender.value_counts()\n",
    "gender_count"
   ]
  },
  {
   "cell_type": "code",
   "execution_count": 59,
   "id": "8ee78476",
   "metadata": {},
   "outputs": [
    {
     "data": {
      "text/plain": [
       "<AxesSubplot:xlabel='count', ylabel='Gender'>"
      ]
     },
     "execution_count": 59,
     "metadata": {},
     "output_type": "execute_result"
    },
    {
     "data": {
      "image/png": "[encoded data removed]",
      "text/plain": [
       "<Figure size 360x360 with 1 Axes>"
      ]
     },
     "metadata": {
      "needs_background": "light"
     },
     "output_type": "display_data"
    }
   ],
   "source": [
    "plt.figure(figsize =(5,5))\n",
    "sns.countplot(y = salary_df.Gender,order = salary_df['Gender'].value_counts().index,palette = \"icefire\")"
   ]
  },
  {
   "cell_type": "code",
   "execution_count": 60,
   "id": "a858dee5",
   "metadata": {},
   "outputs": [
    {
     "data": {
      "text/plain": [
       "array([14.,  5.,  4., 23.,  9., 22.,  6.,  3., 12.,  7.,  8., 15., 27.,\n",
       "       19., 10.,  2.,  1., 17., 25., 11., 20.,  0., 28., 16., 31., 30.,\n",
       "       13., 21., 18., 26., 24., 29., 32., 33., 35., 41., 44., 34., 40.,\n",
       "       45., 50., 38., 36., 42., 46., 37., 39., 43., 49.])"
      ]
     },
     "execution_count": 60,
     "metadata": {},
     "output_type": "execute_result"
    }
   ],
   "source": [
    "salary_df.WorkExp.unique()"
   ]
  },
  {
   "cell_type": "code",
   "execution_count": 61,
   "id": "07d7ab1d",
   "metadata": {},
   "outputs": [
    {
     "data": {
      "text/plain": [
       "5.0     916\n",
       "3.0     810\n",
       "4.0     778\n",
       "10.0    745\n",
       "6.0     646\n",
       "2.0     628\n",
       "8.0     591\n",
       "7.0     582\n",
       "1.0     516\n",
       "12.0    436\n",
       "15.0    433\n",
       "11.0    338\n",
       "20.0    330\n",
       "9.0     327\n",
       "25.0    232\n",
       "14.0    230\n",
       "13.0    220\n",
       "16.0    206\n",
       "22.0    175\n",
       "18.0    174\n",
       "17.0    174\n",
       "23.0    103\n",
       "24.0     90\n",
       "30.0     88\n",
       "21.0     67\n",
       "19.0     63\n",
       "26.0     63\n",
       "0.0      49\n",
       "27.0     49\n",
       "28.0     45\n",
       "35.0     33\n",
       "32.0     30\n",
       "29.0     27\n",
       "40.0     27\n",
       "31.0     21\n",
       "36.0     18\n",
       "37.0     17\n",
       "34.0     15\n",
       "33.0     14\n",
       "38.0     14\n",
       "42.0      9\n",
       "45.0      8\n",
       "50.0      8\n",
       "41.0      6\n",
       "44.0      6\n",
       "39.0      5\n",
       "46.0      3\n",
       "43.0      3\n",
       "49.0      2\n",
       "Name: WorkExp, dtype: int64"
      ]
     },
     "execution_count": 61,
     "metadata": {},
     "output_type": "execute_result"
    }
   ],
   "source": [
    "work_count = salary_df.WorkExp.value_counts()\n",
    "work_count"
   ]
  },
  {
   "cell_type": "code",
   "execution_count": 62,
   "id": "c642c967",
   "metadata": {},
   "outputs": [
    {
     "data": {
      "text/html": [
       "<div>\n",
       "<style scoped>\n",
       "    .dataframe tbody tr th:only-of-type {\n",
       "        vertical-align: middle;\n",
       "    }\n",
       "\n",
       "    .dataframe tbody tr th {\n",
       "        vertical-align: top;\n",
       "    }\n",
       "\n",
       "    .dataframe thead th {\n",
       "        text-align: right;\n",
       "    }\n",
       "</style>\n",
       "<table border=\"1\" class=\"dataframe\">\n",
       "  <thead>\n",
       "    <tr style=\"text-align: right;\">\n",
       "      <th></th>\n",
       "      <th>Employment</th>\n",
       "      <th>EdLevel</th>\n",
       "      <th>YearsCodePro</th>\n",
       "      <th>DevType</th>\n",
       "      <th>OrgSize</th>\n",
       "      <th>Country</th>\n",
       "      <th>LanguageHaveWorkedWith</th>\n",
       "      <th>DatabaseHaveWorkedWith</th>\n",
       "      <th>PlatformHaveWorkedWith</th>\n",
       "      <th>WebframeHaveWorkedWith</th>\n",
       "      <th>MiscTechHaveWorkedWith</th>\n",
       "      <th>ToolsTechHaveWorkedWith</th>\n",
       "      <th>NEWCollabToolsHaveWorkedWith</th>\n",
       "      <th>OpSysProfessional use</th>\n",
       "      <th>Age</th>\n",
       "      <th>Gender</th>\n",
       "      <th>WorkExp</th>\n",
       "      <th>Salary</th>\n",
       "      <th>YearsCodePro_Group</th>\n",
       "    </tr>\n",
       "    <tr>\n",
       "      <th>ResponseId</th>\n",
       "      <th></th>\n",
       "      <th></th>\n",
       "      <th></th>\n",
       "      <th></th>\n",
       "      <th></th>\n",
       "      <th></th>\n",
       "      <th></th>\n",
       "      <th></th>\n",
       "      <th></th>\n",
       "      <th></th>\n",
       "      <th></th>\n",
       "      <th></th>\n",
       "      <th></th>\n",
       "      <th></th>\n",
       "      <th></th>\n",
       "      <th></th>\n",
       "      <th></th>\n",
       "      <th></th>\n",
       "      <th></th>\n",
       "    </tr>\n",
       "  </thead>\n",
       "  <tbody>\n",
       "    <tr>\n",
       "      <th>12</th>\n",
       "      <td>Employed, full-time;Independent contractor, fr...</td>\n",
       "      <td>Bachelors</td>\n",
       "      <td>10.0</td>\n",
       "      <td>Engineering manager</td>\n",
       "      <td>Micro enterprise</td>\n",
       "      <td>United States of America</td>\n",
       "      <td>C#;HTML/CSS;JavaScript;PowerShell;Python;Rust;SQL</td>\n",
       "      <td>Couchbase;CouchDB;Microsoft SQL Server;MongoDB...</td>\n",
       "      <td>AWS;Microsoft Azure</td>\n",
       "      <td>ASP.NET;ASP.NET Core ;Express;Node.js;Vue.js</td>\n",
       "      <td>.NET;Keras;NumPy;Pandas;Scikit-learn;TensorFlo...</td>\n",
       "      <td>Docker;Homebrew;Kubernetes</td>\n",
       "      <td>IPython/Jupyter;Neovim;Visual Studio;Visual St...</td>\n",
       "      <td>Linux-based;macOS;Windows</td>\n",
       "      <td>35-44</td>\n",
       "      <td>Man</td>\n",
       "      <td>14.0</td>\n",
       "      <td>194400.0</td>\n",
       "      <td>10-14</td>\n",
       "    </tr>\n",
       "    <tr>\n",
       "      <th>13</th>\n",
       "      <td>Employed, full-time</td>\n",
       "      <td>Bachelors</td>\n",
       "      <td>5.0</td>\n",
       "      <td>Developer, full-stack</td>\n",
       "      <td>Micro enterprise</td>\n",
       "      <td>United States of America</td>\n",
       "      <td>C;HTML/CSS;Rust;SQL;Swift;TypeScript</td>\n",
       "      <td>PostgreSQL</td>\n",
       "      <td>AWS</td>\n",
       "      <td>React.js</td>\n",
       "      <td>Torch/PyTorch</td>\n",
       "      <td>Docker</td>\n",
       "      <td>Vim;Visual Studio</td>\n",
       "      <td>macOS</td>\n",
       "      <td>25-34</td>\n",
       "      <td>Man</td>\n",
       "      <td>5.0</td>\n",
       "      <td>65000.0</td>\n",
       "      <td>5-9</td>\n",
       "    </tr>\n",
       "    <tr>\n",
       "      <th>15</th>\n",
       "      <td>Employed, full-time;Independent contractor, fr...</td>\n",
       "      <td>Masters</td>\n",
       "      <td>5.0</td>\n",
       "      <td>Developer, full-stack;Academic researcher;DevO...</td>\n",
       "      <td>Large enterprise</td>\n",
       "      <td>United States of America</td>\n",
       "      <td>HTML/CSS;JavaScript;PHP;Python;R;Ruby;Scala</td>\n",
       "      <td>Elasticsearch;MongoDB;Neo4j;PostgreSQL</td>\n",
       "      <td>AWS;DigitalOcean;Heroku</td>\n",
       "      <td>Django;Flask;jQuery;Node.js;Ruby on Rails;Vue.js</td>\n",
       "      <td>Apache Kafka;Apache Spark;NumPy;Pandas;Tidyverse</td>\n",
       "      <td>Docker;npm;Yarn</td>\n",
       "      <td>IPython/Jupyter;Nano;RStudio;Visual Studio Code</td>\n",
       "      <td>macOS</td>\n",
       "      <td>25-34</td>\n",
       "      <td>Man</td>\n",
       "      <td>5.0</td>\n",
       "      <td>110000.0</td>\n",
       "      <td>5-9</td>\n",
       "    </tr>\n",
       "    <tr>\n",
       "      <th>22</th>\n",
       "      <td>Employed, full-time</td>\n",
       "      <td>Masters</td>\n",
       "      <td>4.0</td>\n",
       "      <td>Developer, full-stack</td>\n",
       "      <td>Micro enterprise</td>\n",
       "      <td>Italy</td>\n",
       "      <td>Python;SQL;TypeScript</td>\n",
       "      <td>MySQL;Redis;SQLite</td>\n",
       "      <td>Google Cloud;OVH;VMware</td>\n",
       "      <td>Angular;FastAPI;Vue.js</td>\n",
       "      <td>NumPy;Pandas</td>\n",
       "      <td>Docker;Kubernetes</td>\n",
       "      <td>Neovim;Sublime Text;Visual Studio Code</td>\n",
       "      <td>Windows Subsystem for Linux (WSL)</td>\n",
       "      <td>25-34</td>\n",
       "      <td>Man</td>\n",
       "      <td>4.0</td>\n",
       "      <td>34126.0</td>\n",
       "      <td>0</td>\n",
       "    </tr>\n",
       "    <tr>\n",
       "      <th>23</th>\n",
       "      <td>Employed, full-time</td>\n",
       "      <td>Undergraduate</td>\n",
       "      <td>20.0</td>\n",
       "      <td>Developer, back-end</td>\n",
       "      <td>Small enterprise</td>\n",
       "      <td>Canada</td>\n",
       "      <td>C#;SQL;TypeScript</td>\n",
       "      <td>Microsoft SQL Server;PostgreSQL;Redis</td>\n",
       "      <td>Google Cloud;Microsoft Azure</td>\n",
       "      <td>Angular;ASP.NET Core ;React.js</td>\n",
       "      <td>.NET</td>\n",
       "      <td>Docker;Kubernetes;npm;Terraform;Yarn</td>\n",
       "      <td>Rider;Visual Studio;Visual Studio Code</td>\n",
       "      <td>Windows</td>\n",
       "      <td>35-44</td>\n",
       "      <td>Man</td>\n",
       "      <td>23.0</td>\n",
       "      <td>97605.0</td>\n",
       "      <td>20-24</td>\n",
       "    </tr>\n",
       "  </tbody>\n",
       "</table>\n",
       "</div>"
      ],
      "text/plain": [
       "                                                   Employment        EdLevel  \\\n",
       "ResponseId                                                                     \n",
       "12          Employed, full-time;Independent contractor, fr...      Bachelors   \n",
       "13                                        Employed, full-time      Bachelors   \n",
       "15          Employed, full-time;Independent contractor, fr...        Masters   \n",
       "22                                        Employed, full-time        Masters   \n",
       "23                                        Employed, full-time  Undergraduate   \n",
       "\n",
       "            YearsCodePro                                            DevType  \\\n",
       "ResponseId                                                                    \n",
       "12                  10.0                                Engineering manager   \n",
       "13                   5.0                              Developer, full-stack   \n",
       "15                   5.0  Developer, full-stack;Academic researcher;DevO...   \n",
       "22                   4.0                              Developer, full-stack   \n",
       "23                  20.0                                Developer, back-end   \n",
       "\n",
       "                     OrgSize                   Country  \\\n",
       "ResponseId                                               \n",
       "12          Micro enterprise  United States of America   \n",
       "13          Micro enterprise  United States of America   \n",
       "15          Large enterprise  United States of America   \n",
       "22          Micro enterprise                     Italy   \n",
       "23          Small enterprise                    Canada   \n",
       "\n",
       "                                       LanguageHaveWorkedWith  \\\n",
       "ResponseId                                                      \n",
       "12          C#;HTML/CSS;JavaScript;PowerShell;Python;Rust;SQL   \n",
       "13                       C;HTML/CSS;Rust;SQL;Swift;TypeScript   \n",
       "15                HTML/CSS;JavaScript;PHP;Python;R;Ruby;Scala   \n",
       "22                                      Python;SQL;TypeScript   \n",
       "23                                          C#;SQL;TypeScript   \n",
       "\n",
       "                                       DatabaseHaveWorkedWith  \\\n",
       "ResponseId                                                      \n",
       "12          Couchbase;CouchDB;Microsoft SQL Server;MongoDB...   \n",
       "13                                                 PostgreSQL   \n",
       "15                     Elasticsearch;MongoDB;Neo4j;PostgreSQL   \n",
       "22                                         MySQL;Redis;SQLite   \n",
       "23                      Microsoft SQL Server;PostgreSQL;Redis   \n",
       "\n",
       "                  PlatformHaveWorkedWith  \\\n",
       "ResponseId                                 \n",
       "12                   AWS;Microsoft Azure   \n",
       "13                                   AWS   \n",
       "15               AWS;DigitalOcean;Heroku   \n",
       "22               Google Cloud;OVH;VMware   \n",
       "23          Google Cloud;Microsoft Azure   \n",
       "\n",
       "                                      WebframeHaveWorkedWith  \\\n",
       "ResponseId                                                     \n",
       "12              ASP.NET;ASP.NET Core ;Express;Node.js;Vue.js   \n",
       "13                                                  React.js   \n",
       "15          Django;Flask;jQuery;Node.js;Ruby on Rails;Vue.js   \n",
       "22                                    Angular;FastAPI;Vue.js   \n",
       "23                            Angular;ASP.NET Core ;React.js   \n",
       "\n",
       "                                       MiscTechHaveWorkedWith  \\\n",
       "ResponseId                                                      \n",
       "12          .NET;Keras;NumPy;Pandas;Scikit-learn;TensorFlo...   \n",
       "13                                              Torch/PyTorch   \n",
       "15           Apache Kafka;Apache Spark;NumPy;Pandas;Tidyverse   \n",
       "22                                               NumPy;Pandas   \n",
       "23                                                       .NET   \n",
       "\n",
       "                         ToolsTechHaveWorkedWith  \\\n",
       "ResponseId                                         \n",
       "12                    Docker;Homebrew;Kubernetes   \n",
       "13                                        Docker   \n",
       "15                               Docker;npm;Yarn   \n",
       "22                             Docker;Kubernetes   \n",
       "23          Docker;Kubernetes;npm;Terraform;Yarn   \n",
       "\n",
       "                                 NEWCollabToolsHaveWorkedWith  \\\n",
       "ResponseId                                                      \n",
       "12          IPython/Jupyter;Neovim;Visual Studio;Visual St...   \n",
       "13                                          Vim;Visual Studio   \n",
       "15            IPython/Jupyter;Nano;RStudio;Visual Studio Code   \n",
       "22                     Neovim;Sublime Text;Visual Studio Code   \n",
       "23                     Rider;Visual Studio;Visual Studio Code   \n",
       "\n",
       "                        OpSysProfessional use    Age Gender  WorkExp  \\\n",
       "ResponseId                                                             \n",
       "12                  Linux-based;macOS;Windows  35-44    Man     14.0   \n",
       "13                                      macOS  25-34    Man      5.0   \n",
       "15                                      macOS  25-34    Man      5.0   \n",
       "22          Windows Subsystem for Linux (WSL)  25-34    Man      4.0   \n",
       "23                                    Windows  35-44    Man     23.0   \n",
       "\n",
       "              Salary YearsCodePro_Group  \n",
       "ResponseId                               \n",
       "12          194400.0              10-14  \n",
       "13           65000.0                5-9  \n",
       "15          110000.0                5-9  \n",
       "22           34126.0                  0  \n",
       "23           97605.0              20-24  "
      ]
     },
     "execution_count": 62,
     "metadata": {},
     "output_type": "execute_result"
    }
   ],
   "source": [
    "def workexp_group(x):\n",
    "    bucket = 0\n",
    "    if x < 1:\n",
    "        bucket = 'Less than 1 year'\n",
    "    \n",
    "    # Age 30 to 39 ('range' excludes upper bound)\n",
    "    if x in range(0, 4):\n",
    "        bucket = '1-4'\n",
    "        \n",
    "    if x in range(5, 10):\n",
    "        bucket = '5-9'\n",
    "        \n",
    "    if x in range(10, 15):\n",
    "        bucket = '10-14'\n",
    "    \n",
    "    if x in range(15, 20):\n",
    "        bucket = '15-19'\n",
    "    \n",
    "    if x in range(20, 25):\n",
    "        bucket = '20-24'\n",
    "    \n",
    "    if x in range(25, 30):\n",
    "        bucket = '25-29'\n",
    "        \n",
    "    if x in range(30, 35):\n",
    "        bucket = '30-34'\n",
    "\n",
    "    if x in range(35, 40):\n",
    "        bucket = '35-39'\n",
    "    \n",
    "    if x in range(40, 45):\n",
    "        bucket = '40-44'\n",
    "        \n",
    "    if x in range(45, 50):\n",
    "        bucket = '45-49'\n",
    "        \n",
    "    if x > 50:\n",
    "        bucket = 'More than 50 years'\n",
    "        \n",
    "    return bucket\n",
    "\n",
    "salary_df['YearsCodePro_Group'] = salary_df['YearsCodePro'].apply(workexp_group)\n",
    "salary_df.head()\n"
   ]
  },
  {
   "cell_type": "code",
   "execution_count": 63,
   "id": "b7fcf67d",
   "metadata": {},
   "outputs": [
    {
     "data": {
      "text/plain": [
       "<AxesSubplot:xlabel='count', ylabel='YearsCodePro_Group'>"
      ]
     },
     "execution_count": 63,
     "metadata": {},
     "output_type": "execute_result"
    },
    {
     "data": {
      "image/png": "[encoded data removed]",
      "text/plain": [
       "<Figure size 1080x720 with 1 Axes>"
      ]
     },
     "metadata": {
      "needs_background": "light"
     },
     "output_type": "display_data"
    }
   ],
   "source": [
    "plt.figure(figsize =(15,10))\n",
    "sns.countplot(y = salary_df.YearsCodePro_Group,order = salary_df['YearsCodePro_Group'].value_counts().index,palette = \"icefire\")"
   ]
  },
  {
   "cell_type": "code",
   "execution_count": 64,
   "id": "5107df70",
   "metadata": {},
   "outputs": [
    {
     "data": {
      "text/html": [
       "<div>\n",
       "<style scoped>\n",
       "    .dataframe tbody tr th:only-of-type {\n",
       "        vertical-align: middle;\n",
       "    }\n",
       "\n",
       "    .dataframe tbody tr th {\n",
       "        vertical-align: top;\n",
       "    }\n",
       "\n",
       "    .dataframe thead th {\n",
       "        text-align: right;\n",
       "    }\n",
       "</style>\n",
       "<table border=\"1\" class=\"dataframe\">\n",
       "  <thead>\n",
       "    <tr style=\"text-align: right;\">\n",
       "      <th></th>\n",
       "      <th>Employment</th>\n",
       "      <th>EdLevel</th>\n",
       "      <th>YearsCodePro</th>\n",
       "      <th>DevType</th>\n",
       "      <th>OrgSize</th>\n",
       "      <th>Country</th>\n",
       "      <th>LanguageHaveWorkedWith</th>\n",
       "      <th>DatabaseHaveWorkedWith</th>\n",
       "      <th>PlatformHaveWorkedWith</th>\n",
       "      <th>WebframeHaveWorkedWith</th>\n",
       "      <th>MiscTechHaveWorkedWith</th>\n",
       "      <th>ToolsTechHaveWorkedWith</th>\n",
       "      <th>NEWCollabToolsHaveWorkedWith</th>\n",
       "      <th>OpSysProfessional use</th>\n",
       "      <th>Age</th>\n",
       "      <th>Gender</th>\n",
       "      <th>WorkExp</th>\n",
       "      <th>Salary</th>\n",
       "      <th>YearsCodePro_Group</th>\n",
       "      <th>WorkExp_Group</th>\n",
       "    </tr>\n",
       "    <tr>\n",
       "      <th>ResponseId</th>\n",
       "      <th></th>\n",
       "      <th></th>\n",
       "      <th></th>\n",
       "      <th></th>\n",
       "      <th></th>\n",
       "      <th></th>\n",
       "      <th></th>\n",
       "      <th></th>\n",
       "      <th></th>\n",
       "      <th></th>\n",
       "      <th></th>\n",
       "      <th></th>\n",
       "      <th></th>\n",
       "      <th></th>\n",
       "      <th></th>\n",
       "      <th></th>\n",
       "      <th></th>\n",
       "      <th></th>\n",
       "      <th></th>\n",
       "      <th></th>\n",
       "    </tr>\n",
       "  </thead>\n",
       "  <tbody>\n",
       "    <tr>\n",
       "      <th>12</th>\n",
       "      <td>Employed, full-time;Independent contractor, fr...</td>\n",
       "      <td>Bachelors</td>\n",
       "      <td>10.0</td>\n",
       "      <td>Engineering manager</td>\n",
       "      <td>Micro enterprise</td>\n",
       "      <td>United States of America</td>\n",
       "      <td>C#;HTML/CSS;JavaScript;PowerShell;Python;Rust;SQL</td>\n",
       "      <td>Couchbase;CouchDB;Microsoft SQL Server;MongoDB...</td>\n",
       "      <td>AWS;Microsoft Azure</td>\n",
       "      <td>ASP.NET;ASP.NET Core ;Express;Node.js;Vue.js</td>\n",
       "      <td>.NET;Keras;NumPy;Pandas;Scikit-learn;TensorFlo...</td>\n",
       "      <td>Docker;Homebrew;Kubernetes</td>\n",
       "      <td>IPython/Jupyter;Neovim;Visual Studio;Visual St...</td>\n",
       "      <td>Linux-based;macOS;Windows</td>\n",
       "      <td>35-44</td>\n",
       "      <td>Man</td>\n",
       "      <td>14.0</td>\n",
       "      <td>194400.0</td>\n",
       "      <td>10-14</td>\n",
       "      <td>10-14</td>\n",
       "    </tr>\n",
       "    <tr>\n",
       "      <th>13</th>\n",
       "      <td>Employed, full-time</td>\n",
       "      <td>Bachelors</td>\n",
       "      <td>5.0</td>\n",
       "      <td>Developer, full-stack</td>\n",
       "      <td>Micro enterprise</td>\n",
       "      <td>United States of America</td>\n",
       "      <td>C;HTML/CSS;Rust;SQL;Swift;TypeScript</td>\n",
       "      <td>PostgreSQL</td>\n",
       "      <td>AWS</td>\n",
       "      <td>React.js</td>\n",
       "      <td>Torch/PyTorch</td>\n",
       "      <td>Docker</td>\n",
       "      <td>Vim;Visual Studio</td>\n",
       "      <td>macOS</td>\n",
       "      <td>25-34</td>\n",
       "      <td>Man</td>\n",
       "      <td>5.0</td>\n",
       "      <td>65000.0</td>\n",
       "      <td>5-9</td>\n",
       "      <td>5-9</td>\n",
       "    </tr>\n",
       "    <tr>\n",
       "      <th>15</th>\n",
       "      <td>Employed, full-time;Independent contractor, fr...</td>\n",
       "      <td>Masters</td>\n",
       "      <td>5.0</td>\n",
       "      <td>Developer, full-stack;Academic researcher;DevO...</td>\n",
       "      <td>Large enterprise</td>\n",
       "      <td>United States of America</td>\n",
       "      <td>HTML/CSS;JavaScript;PHP;Python;R;Ruby;Scala</td>\n",
       "      <td>Elasticsearch;MongoDB;Neo4j;PostgreSQL</td>\n",
       "      <td>AWS;DigitalOcean;Heroku</td>\n",
       "      <td>Django;Flask;jQuery;Node.js;Ruby on Rails;Vue.js</td>\n",
       "      <td>Apache Kafka;Apache Spark;NumPy;Pandas;Tidyverse</td>\n",
       "      <td>Docker;npm;Yarn</td>\n",
       "      <td>IPython/Jupyter;Nano;RStudio;Visual Studio Code</td>\n",
       "      <td>macOS</td>\n",
       "      <td>25-34</td>\n",
       "      <td>Man</td>\n",
       "      <td>5.0</td>\n",
       "      <td>110000.0</td>\n",
       "      <td>5-9</td>\n",
       "      <td>5-9</td>\n",
       "    </tr>\n",
       "    <tr>\n",
       "      <th>22</th>\n",
       "      <td>Employed, full-time</td>\n",
       "      <td>Masters</td>\n",
       "      <td>4.0</td>\n",
       "      <td>Developer, full-stack</td>\n",
       "      <td>Micro enterprise</td>\n",
       "      <td>Italy</td>\n",
       "      <td>Python;SQL;TypeScript</td>\n",
       "      <td>MySQL;Redis;SQLite</td>\n",
       "      <td>Google Cloud;OVH;VMware</td>\n",
       "      <td>Angular;FastAPI;Vue.js</td>\n",
       "      <td>NumPy;Pandas</td>\n",
       "      <td>Docker;Kubernetes</td>\n",
       "      <td>Neovim;Sublime Text;Visual Studio Code</td>\n",
       "      <td>Windows Subsystem for Linux (WSL)</td>\n",
       "      <td>25-34</td>\n",
       "      <td>Man</td>\n",
       "      <td>4.0</td>\n",
       "      <td>34126.0</td>\n",
       "      <td>0</td>\n",
       "      <td>0</td>\n",
       "    </tr>\n",
       "    <tr>\n",
       "      <th>23</th>\n",
       "      <td>Employed, full-time</td>\n",
       "      <td>Undergraduate</td>\n",
       "      <td>20.0</td>\n",
       "      <td>Developer, back-end</td>\n",
       "      <td>Small enterprise</td>\n",
       "      <td>Canada</td>\n",
       "      <td>C#;SQL;TypeScript</td>\n",
       "      <td>Microsoft SQL Server;PostgreSQL;Redis</td>\n",
       "      <td>Google Cloud;Microsoft Azure</td>\n",
       "      <td>Angular;ASP.NET Core ;React.js</td>\n",
       "      <td>.NET</td>\n",
       "      <td>Docker;Kubernetes;npm;Terraform;Yarn</td>\n",
       "      <td>Rider;Visual Studio;Visual Studio Code</td>\n",
       "      <td>Windows</td>\n",
       "      <td>35-44</td>\n",
       "      <td>Man</td>\n",
       "      <td>23.0</td>\n",
       "      <td>97605.0</td>\n",
       "      <td>20-24</td>\n",
       "      <td>20-24</td>\n",
       "    </tr>\n",
       "  </tbody>\n",
       "</table>\n",
       "</div>"
      ],
      "text/plain": [
       "                                                   Employment        EdLevel  \\\n",
       "ResponseId                                                                     \n",
       "12          Employed, full-time;Independent contractor, fr...      Bachelors   \n",
       "13                                        Employed, full-time      Bachelors   \n",
       "15          Employed, full-time;Independent contractor, fr...        Masters   \n",
       "22                                        Employed, full-time        Masters   \n",
       "23                                        Employed, full-time  Undergraduate   \n",
       "\n",
       "            YearsCodePro                                            DevType  \\\n",
       "ResponseId                                                                    \n",
       "12                  10.0                                Engineering manager   \n",
       "13                   5.0                              Developer, full-stack   \n",
       "15                   5.0  Developer, full-stack;Academic researcher;DevO...   \n",
       "22                   4.0                              Developer, full-stack   \n",
       "23                  20.0                                Developer, back-end   \n",
       "\n",
       "                     OrgSize                   Country  \\\n",
       "ResponseId                                               \n",
       "12          Micro enterprise  United States of America   \n",
       "13          Micro enterprise  United States of America   \n",
       "15          Large enterprise  United States of America   \n",
       "22          Micro enterprise                     Italy   \n",
       "23          Small enterprise                    Canada   \n",
       "\n",
       "                                       LanguageHaveWorkedWith  \\\n",
       "ResponseId                                                      \n",
       "12          C#;HTML/CSS;JavaScript;PowerShell;Python;Rust;SQL   \n",
       "13                       C;HTML/CSS;Rust;SQL;Swift;TypeScript   \n",
       "15                HTML/CSS;JavaScript;PHP;Python;R;Ruby;Scala   \n",
       "22                                      Python;SQL;TypeScript   \n",
       "23                                          C#;SQL;TypeScript   \n",
       "\n",
       "                                       DatabaseHaveWorkedWith  \\\n",
       "ResponseId                                                      \n",
       "12          Couchbase;CouchDB;Microsoft SQL Server;MongoDB...   \n",
       "13                                                 PostgreSQL   \n",
       "15                     Elasticsearch;MongoDB;Neo4j;PostgreSQL   \n",
       "22                                         MySQL;Redis;SQLite   \n",
       "23                      Microsoft SQL Server;PostgreSQL;Redis   \n",
       "\n",
       "                  PlatformHaveWorkedWith  \\\n",
       "ResponseId                                 \n",
       "12                   AWS;Microsoft Azure   \n",
       "13                                   AWS   \n",
       "15               AWS;DigitalOcean;Heroku   \n",
       "22               Google Cloud;OVH;VMware   \n",
       "23          Google Cloud;Microsoft Azure   \n",
       "\n",
       "                                      WebframeHaveWorkedWith  \\\n",
       "ResponseId                                                     \n",
       "12              ASP.NET;ASP.NET Core ;Express;Node.js;Vue.js   \n",
       "13                                                  React.js   \n",
       "15          Django;Flask;jQuery;Node.js;Ruby on Rails;Vue.js   \n",
       "22                                    Angular;FastAPI;Vue.js   \n",
       "23                            Angular;ASP.NET Core ;React.js   \n",
       "\n",
       "                                       MiscTechHaveWorkedWith  \\\n",
       "ResponseId                                                      \n",
       "12          .NET;Keras;NumPy;Pandas;Scikit-learn;TensorFlo...   \n",
       "13                                              Torch/PyTorch   \n",
       "15           Apache Kafka;Apache Spark;NumPy;Pandas;Tidyverse   \n",
       "22                                               NumPy;Pandas   \n",
       "23                                                       .NET   \n",
       "\n",
       "                         ToolsTechHaveWorkedWith  \\\n",
       "ResponseId                                         \n",
       "12                    Docker;Homebrew;Kubernetes   \n",
       "13                                        Docker   \n",
       "15                               Docker;npm;Yarn   \n",
       "22                             Docker;Kubernetes   \n",
       "23          Docker;Kubernetes;npm;Terraform;Yarn   \n",
       "\n",
       "                                 NEWCollabToolsHaveWorkedWith  \\\n",
       "ResponseId                                                      \n",
       "12          IPython/Jupyter;Neovim;Visual Studio;Visual St...   \n",
       "13                                          Vim;Visual Studio   \n",
       "15            IPython/Jupyter;Nano;RStudio;Visual Studio Code   \n",
       "22                     Neovim;Sublime Text;Visual Studio Code   \n",
       "23                     Rider;Visual Studio;Visual Studio Code   \n",
       "\n",
       "                        OpSysProfessional use    Age Gender  WorkExp  \\\n",
       "ResponseId                                                             \n",
       "12                  Linux-based;macOS;Windows  35-44    Man     14.0   \n",
       "13                                      macOS  25-34    Man      5.0   \n",
       "15                                      macOS  25-34    Man      5.0   \n",
       "22          Windows Subsystem for Linux (WSL)  25-34    Man      4.0   \n",
       "23                                    Windows  35-44    Man     23.0   \n",
       "\n",
       "              Salary YearsCodePro_Group WorkExp_Group  \n",
       "ResponseId                                             \n",
       "12          194400.0              10-14         10-14  \n",
       "13           65000.0                5-9           5-9  \n",
       "15          110000.0                5-9           5-9  \n",
       "22           34126.0                  0             0  \n",
       "23           97605.0              20-24         20-24  "
      ]
     },
     "execution_count": 64,
     "metadata": {},
     "output_type": "execute_result"
    }
   ],
   "source": [
    "salary_df['WorkExp_Group'] = salary_df['WorkExp'].apply(workexp_group)\n",
    "salary_df.head()"
   ]
  },
  {
   "cell_type": "code",
   "execution_count": 65,
   "id": "300b995a",
   "metadata": {},
   "outputs": [
    {
     "data": {
      "text/plain": [
       "5-9      3062\n",
       "1-4      2003\n",
       "10-14    1969\n",
       "15-19    1050\n",
       "0         786\n",
       "20-24     765\n",
       "25-29     416\n",
       "30-34     168\n",
       "35-39      87\n",
       "40-44      51\n",
       "45-49      13\n",
       "Name: WorkExp_Group, dtype: int64"
      ]
     },
     "execution_count": 65,
     "metadata": {},
     "output_type": "execute_result"
    }
   ],
   "source": [
    "salary_df.WorkExp_Group.value_counts()"
   ]
  },
  {
   "cell_type": "code",
   "execution_count": 66,
   "id": "390aa9d0",
   "metadata": {},
   "outputs": [
    {
     "data": {
      "text/plain": [
       "<AxesSubplot:xlabel='count', ylabel='WorkExp_Group'>"
      ]
     },
     "execution_count": 66,
     "metadata": {},
     "output_type": "execute_result"
    },
    {
     "data": {
      "image/png": "[encoded data removed]",
      "text/plain": [
       "<Figure size 1080x720 with 1 Axes>"
      ]
     },
     "metadata": {
      "needs_background": "light"
     },
     "output_type": "display_data"
    }
   ],
   "source": [
    "plt.figure(figsize =(15,10))\n",
    "sns.countplot(y = salary_df.WorkExp_Group,order = salary_df['WorkExp_Group'].value_counts().index,palette = \"icefire\")"
   ]
  },
  {
   "cell_type": "code",
   "execution_count": 67,
   "id": "fd95b573",
   "metadata": {},
   "outputs": [
    {
     "data": {
      "text/html": [
       "<div>\n",
       "<style scoped>\n",
       "    .dataframe tbody tr th:only-of-type {\n",
       "        vertical-align: middle;\n",
       "    }\n",
       "\n",
       "    .dataframe tbody tr th {\n",
       "        vertical-align: top;\n",
       "    }\n",
       "\n",
       "    .dataframe thead th {\n",
       "        text-align: right;\n",
       "    }\n",
       "</style>\n",
       "<table border=\"1\" class=\"dataframe\">\n",
       "  <thead>\n",
       "    <tr style=\"text-align: right;\">\n",
       "      <th></th>\n",
       "      <th>WorkExp</th>\n",
       "      <th>WorkExp_Group</th>\n",
       "    </tr>\n",
       "    <tr>\n",
       "      <th>ResponseId</th>\n",
       "      <th></th>\n",
       "      <th></th>\n",
       "    </tr>\n",
       "  </thead>\n",
       "  <tbody>\n",
       "    <tr>\n",
       "      <th>12</th>\n",
       "      <td>14.0</td>\n",
       "      <td>10-14</td>\n",
       "    </tr>\n",
       "    <tr>\n",
       "      <th>13</th>\n",
       "      <td>5.0</td>\n",
       "      <td>5-9</td>\n",
       "    </tr>\n",
       "    <tr>\n",
       "      <th>15</th>\n",
       "      <td>5.0</td>\n",
       "      <td>5-9</td>\n",
       "    </tr>\n",
       "    <tr>\n",
       "      <th>22</th>\n",
       "      <td>4.0</td>\n",
       "      <td>0</td>\n",
       "    </tr>\n",
       "    <tr>\n",
       "      <th>23</th>\n",
       "      <td>23.0</td>\n",
       "      <td>20-24</td>\n",
       "    </tr>\n",
       "    <tr>\n",
       "      <th>...</th>\n",
       "      <td>...</td>\n",
       "      <td>...</td>\n",
       "    </tr>\n",
       "    <tr>\n",
       "      <th>73102</th>\n",
       "      <td>14.0</td>\n",
       "      <td>10-14</td>\n",
       "    </tr>\n",
       "    <tr>\n",
       "      <th>73103</th>\n",
       "      <td>5.0</td>\n",
       "      <td>5-9</td>\n",
       "    </tr>\n",
       "    <tr>\n",
       "      <th>73113</th>\n",
       "      <td>3.0</td>\n",
       "      <td>1-4</td>\n",
       "    </tr>\n",
       "    <tr>\n",
       "      <th>73117</th>\n",
       "      <td>16.0</td>\n",
       "      <td>15-19</td>\n",
       "    </tr>\n",
       "    <tr>\n",
       "      <th>73120</th>\n",
       "      <td>9.0</td>\n",
       "      <td>5-9</td>\n",
       "    </tr>\n",
       "  </tbody>\n",
       "</table>\n",
       "<p>10370 rows × 2 columns</p>\n",
       "</div>"
      ],
      "text/plain": [
       "            WorkExp WorkExp_Group\n",
       "ResponseId                       \n",
       "12             14.0         10-14\n",
       "13              5.0           5-9\n",
       "15              5.0           5-9\n",
       "22              4.0             0\n",
       "23             23.0         20-24\n",
       "...             ...           ...\n",
       "73102          14.0         10-14\n",
       "73103           5.0           5-9\n",
       "73113           3.0           1-4\n",
       "73117          16.0         15-19\n",
       "73120           9.0           5-9\n",
       "\n",
       "[10370 rows x 2 columns]"
      ]
     },
     "execution_count": 67,
     "metadata": {},
     "output_type": "execute_result"
    }
   ],
   "source": [
    "salary_df[['WorkExp','WorkExp_Group']]"
   ]
  },
  {
   "cell_type": "code",
   "execution_count": 68,
   "id": "be7a823c",
   "metadata": {},
   "outputs": [],
   "source": [
    "salary_df = salary_df[['Employment','EdLevel','YearsCodePro','WorkExp','Age','Gender','OrgSize','Country','Salary']]"
   ]
  },
  {
   "cell_type": "code",
   "execution_count": 71,
   "id": "e86a9301",
   "metadata": {},
   "outputs": [],
   "source": [
    "salary_df = salary_df.loc[salary_df['Employment'] == 'Employed, full-time']"
   ]
  },
  {
   "cell_type": "code",
   "execution_count": 72,
   "id": "d234b977",
   "metadata": {},
   "outputs": [
    {
     "data": {
      "text/html": [
       "<div>\n",
       "<style scoped>\n",
       "    .dataframe tbody tr th:only-of-type {\n",
       "        vertical-align: middle;\n",
       "    }\n",
       "\n",
       "    .dataframe tbody tr th {\n",
       "        vertical-align: top;\n",
       "    }\n",
       "\n",
       "    .dataframe thead th {\n",
       "        text-align: right;\n",
       "    }\n",
       "</style>\n",
       "<table border=\"1\" class=\"dataframe\">\n",
       "  <thead>\n",
       "    <tr style=\"text-align: right;\">\n",
       "      <th></th>\n",
       "      <th>Employment</th>\n",
       "      <th>EdLevel</th>\n",
       "      <th>YearsCodePro</th>\n",
       "      <th>WorkExp</th>\n",
       "      <th>Age</th>\n",
       "      <th>Gender</th>\n",
       "      <th>OrgSize</th>\n",
       "      <th>Country</th>\n",
       "      <th>Salary</th>\n",
       "    </tr>\n",
       "    <tr>\n",
       "      <th>ResponseId</th>\n",
       "      <th></th>\n",
       "      <th></th>\n",
       "      <th></th>\n",
       "      <th></th>\n",
       "      <th></th>\n",
       "      <th></th>\n",
       "      <th></th>\n",
       "      <th></th>\n",
       "      <th></th>\n",
       "    </tr>\n",
       "  </thead>\n",
       "  <tbody>\n",
       "    <tr>\n",
       "      <th>13</th>\n",
       "      <td>Employed, full-time</td>\n",
       "      <td>Bachelors</td>\n",
       "      <td>5.0</td>\n",
       "      <td>5.0</td>\n",
       "      <td>25-34</td>\n",
       "      <td>Man</td>\n",
       "      <td>Micro enterprise</td>\n",
       "      <td>United States of America</td>\n",
       "      <td>65000.0</td>\n",
       "    </tr>\n",
       "    <tr>\n",
       "      <th>22</th>\n",
       "      <td>Employed, full-time</td>\n",
       "      <td>Masters</td>\n",
       "      <td>4.0</td>\n",
       "      <td>4.0</td>\n",
       "      <td>25-34</td>\n",
       "      <td>Man</td>\n",
       "      <td>Micro enterprise</td>\n",
       "      <td>Italy</td>\n",
       "      <td>34126.0</td>\n",
       "    </tr>\n",
       "    <tr>\n",
       "      <th>23</th>\n",
       "      <td>Employed, full-time</td>\n",
       "      <td>Undergraduate</td>\n",
       "      <td>20.0</td>\n",
       "      <td>23.0</td>\n",
       "      <td>35-44</td>\n",
       "      <td>Man</td>\n",
       "      <td>Small enterprise</td>\n",
       "      <td>Canada</td>\n",
       "      <td>97605.0</td>\n",
       "    </tr>\n",
       "    <tr>\n",
       "      <th>26</th>\n",
       "      <td>Employed, full-time</td>\n",
       "      <td>Masters</td>\n",
       "      <td>9.0</td>\n",
       "      <td>9.0</td>\n",
       "      <td>25-34</td>\n",
       "      <td>Man</td>\n",
       "      <td>Micro enterprise</td>\n",
       "      <td>Germany</td>\n",
       "      <td>90647.0</td>\n",
       "    </tr>\n",
       "    <tr>\n",
       "      <th>52</th>\n",
       "      <td>Employed, full-time</td>\n",
       "      <td>Bachelors</td>\n",
       "      <td>3.0</td>\n",
       "      <td>3.0</td>\n",
       "      <td>25-34</td>\n",
       "      <td>Man</td>\n",
       "      <td>Micro enterprise</td>\n",
       "      <td>Poland</td>\n",
       "      <td>38856.0</td>\n",
       "    </tr>\n",
       "  </tbody>\n",
       "</table>\n",
       "</div>"
      ],
      "text/plain": [
       "                     Employment        EdLevel  YearsCodePro  WorkExp    Age  \\\n",
       "ResponseId                                                                     \n",
       "13          Employed, full-time      Bachelors           5.0      5.0  25-34   \n",
       "22          Employed, full-time        Masters           4.0      4.0  25-34   \n",
       "23          Employed, full-time  Undergraduate          20.0     23.0  35-44   \n",
       "26          Employed, full-time        Masters           9.0      9.0  25-34   \n",
       "52          Employed, full-time      Bachelors           3.0      3.0  25-34   \n",
       "\n",
       "           Gender           OrgSize                   Country   Salary  \n",
       "ResponseId                                                              \n",
       "13            Man  Micro enterprise  United States of America  65000.0  \n",
       "22            Man  Micro enterprise                     Italy  34126.0  \n",
       "23            Man  Small enterprise                    Canada  97605.0  \n",
       "26            Man  Micro enterprise                   Germany  90647.0  \n",
       "52            Man  Micro enterprise                    Poland  38856.0  "
      ]
     },
     "execution_count": 72,
     "metadata": {},
     "output_type": "execute_result"
    }
   ],
   "source": [
    "salary_df.head()"
   ]
  },
  {
   "cell_type": "markdown",
   "id": "8fc02c5b",
   "metadata": {},
   "source": [
    "## Identifying Outliers"
   ]
  },
  {
   "cell_type": "code",
   "execution_count": 74,
   "id": "62ab2c81",
   "metadata": {},
   "outputs": [
    {
     "data": {
      "text/plain": [
       "<AxesSubplot:xlabel='YearsCodePro', ylabel='EdLevel'>"
      ]
     },
     "execution_count": 74,
     "metadata": {},
     "output_type": "execute_result"
    },
    {
     "data": {
      "image/png": "[encoded data removed]",
      "text/plain": [
       "<Figure size 432x288 with 1 Axes>"
      ]
     },
     "metadata": {
      "needs_background": "light"
     },
     "output_type": "display_data"
    }
   ],
   "source": [
    "sns.boxplot(x = salary_df['YearsCodePro'], y = salary_df['EdLevel'])"
   ]
  },
  {
   "cell_type": "code",
   "execution_count": 75,
   "id": "f9245fac",
   "metadata": {},
   "outputs": [
    {
     "data": {
      "text/plain": [
       "<AxesSubplot:xlabel='WorkExp', ylabel='OrgSize'>"
      ]
     },
     "execution_count": 75,
     "metadata": {},
     "output_type": "execute_result"
    },
    {
     "data": {
      "image/png": "[encoded data removed]",
      "text/plain": [
       "<Figure size 432x288 with 1 Axes>"
      ]
     },
     "metadata": {
      "needs_background": "light"
     },
     "output_type": "display_data"
    }
   ],
   "source": [
    "sns.boxplot(x = salary_df['WorkExp'], y = salary_df['OrgSize'])"
   ]
  },
  {
   "cell_type": "code",
   "execution_count": 76,
   "id": "1a7acdcf",
   "metadata": {},
   "outputs": [
    {
     "data": {
      "text/plain": [
       "<AxesSubplot:xlabel='Salary', ylabel='EdLevel'>"
      ]
     },
     "execution_count": 76,
     "metadata": {},
     "output_type": "execute_result"
    },
    {
     "data": {
      "image/png": "[encoded data removed]",
      "text/plain": [
       "<Figure size 432x288 with 1 Axes>"
      ]
     },
     "metadata": {
      "needs_background": "light"
     },
     "output_type": "display_data"
    }
   ],
   "source": [
    "sns.boxplot(x = salary_df['Salary'], y = salary_df['EdLevel'])"
   ]
  },
  {
   "cell_type": "code",
   "execution_count": 77,
   "id": "43f652b6",
   "metadata": {},
   "outputs": [
    {
     "data": {
      "text/plain": [
       "<AxesSubplot:xlabel='Salary', ylabel='OrgSize'>"
      ]
     },
     "execution_count": 77,
     "metadata": {},
     "output_type": "execute_result"
    },
    {
     "data": {
      "image/png": "[encoded data removed]",
      "text/plain": [
       "<Figure size 432x288 with 1 Axes>"
      ]
     },
     "metadata": {
      "needs_background": "light"
     },
     "output_type": "display_data"
    }
   ],
   "source": [
    "sns.boxplot(x = salary_df['Salary'], y = salary_df['OrgSize'])"
   ]
  },
  {
   "cell_type": "code",
   "execution_count": null,
   "id": "4d5cfbe3",
   "metadata": {},
   "outputs": [],
   "source": [
    "def outliers(data):\n",
    "    for i in salary_df['WorkExp']:\n",
    "        q1 = salary_df['WorkExp'].quantile(0.25)\n",
    "        q3 = salary_df['WorkExp'].quantile(0.75)\n",
    "        iqr = q3-q1\n",
    "        low_lim = q1 - 1.5*iqr\n",
    "        up_lim  = q3 + 1.5*iqr\n",
    "        if i> up_lim or i< low_lim:\n",
    "            salary_df['WorkExp'] = salary_df['WorkExp'].replace(i,np.mean(salary_df['WorkExp']))\n",
    "    sns.boxplot(salary_df['WorkExp'])"
   ]
  },
  {
   "cell_type": "code",
   "execution_count": 110,
   "id": "ae20fac3",
   "metadata": {},
   "outputs": [
    {
     "name": "stdout",
     "output_type": "stream",
     "text": [
      "25th and 75th quartile: 4.0 14.0\n",
      "inter-quartile range: 10.0\n",
      "boundaries: -11.0 29.0\n",
      "Identified outliers: 254\n",
      "Non-outlier observations: 8344\n"
     ]
    },
    {
     "data": {
      "image/png": "[encoded data removed]",
      "text/plain": [
       "<Figure size 432x288 with 1 Axes>"
      ]
     },
     "metadata": {
      "needs_background": "light"
     },
     "output_type": "display_data"
    }
   ],
   "source": [
    "outliers(salary_df['WorkExp'])"
   ]
  },
  {
   "cell_type": "code",
   "execution_count": 111,
   "id": "e46c8e3c",
   "metadata": {},
   "outputs": [
    {
     "name": "stdout",
     "output_type": "stream",
     "text": [
      "25th and 75th quartile: 4.0 12.0\n",
      "inter-quartile range: 8.0\n",
      "boundaries: -8.0 24.0\n",
      "Identified outliers: 402\n",
      "Non-outlier observations: 8196\n"
     ]
    },
    {
     "data": {
      "image/png": "[encoded data removed]",
      "text/plain": [
       "<Figure size 432x288 with 1 Axes>"
      ]
     },
     "metadata": {
      "needs_background": "light"
     },
     "output_type": "display_data"
    }
   ],
   "source": [
    "outliers(salary_df['YearsCodePro'])"
   ]
  },
  {
   "cell_type": "code",
   "execution_count": 112,
   "id": "e512bc0c",
   "metadata": {},
   "outputs": [
    {
     "name": "stdout",
     "output_type": "stream",
     "text": [
      "25th and 75th quartile: 35424.0 123788.75\n",
      "inter-quartile range: 88364.75\n",
      "boundaries: -97123.125 256335.875\n",
      "Identified outliers: 560\n",
      "Non-outlier observations: 8038\n"
     ]
    },
    {
     "data": {
      "image/png": "[encoded data removed]",
      "text/plain": [
       "<Figure size 432x288 with 1 Axes>"
      ]
     },
     "metadata": {
      "needs_background": "light"
     },
     "output_type": "display_data"
    }
   ],
   "source": [
    "outliers(salary_df['Salary'])"
   ]
  },
  {
   "cell_type": "code",
   "execution_count": 113,
   "id": "8e0965b1",
   "metadata": {},
   "outputs": [],
   "source": [
    "salary_df.to_csv('clean_data.csv')"
   ]
  },
  {
   "cell_type": "code",
   "execution_count": null,
   "id": "9fec5a13",
   "metadata": {},
   "outputs": [],
   "source": []
  }
 ],
 "metadata": {
  "kernelspec": {
   "display_name": "Python 3 (ipykernel)",
   "language": "python",
   "name": "python3"
  },
  "language_info": {
   "codemirror_mode": {
    "name": "ipython",
    "version": 3
   },
   "file_extension": ".py",
   "mimetype": "text/x-python",
   "name": "python",
   "nbconvert_exporter": "python",
   "pygments_lexer": "ipython3",
   "version": "3.9.12"
  }
 },
 "nbformat": 4,
 "nbformat_minor": 5
}
